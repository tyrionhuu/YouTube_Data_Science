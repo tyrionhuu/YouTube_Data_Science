{
 "cells": [
  {
   "cell_type": "code",
   "outputs": [],
   "source": [
    "from sentence_transformers import SentenceTransformer\n",
    "import csv\n",
    "import pandas as pd\n",
    "from sklearn.mixture import GaussianMixture as GMM\n",
    "import os\n",
    "\n",
    "os.environ['TOKENIZERS_PARALLELISM'] = 'false'"
   ],
   "metadata": {
    "collapsed": false,
    "ExecuteTime": {
     "end_time": "2024-06-20T05:20:42.057831Z",
     "start_time": "2024-06-20T05:20:42.051840Z"
    }
   },
   "id": "6beceb36ed9a1539",
   "execution_count": 91
  },
  {
   "cell_type": "code",
   "execution_count": 92,
   "id": "cda8920535211f0f",
   "metadata": {
    "collapsed": false,
    "ExecuteTime": {
     "end_time": "2024-06-20T05:20:42.312475Z",
     "start_time": "2024-06-20T05:20:42.290869Z"
    }
   },
   "outputs": [
    {
     "data": {
      "text/plain": "                                                comment  likes_count  \\\n0          you cant love your country only when you win         1627   \n1     you cant only love your country when you win t...         1050   \n2     the number of times mike johnson nodded in agr...          702   \n3             dont pay congress until they do their job          650   \n4     unions build middle class not billionaires ind...          543   \n...                                                 ...          ...   \n2870  they pumped him full of dementia medication so...            1   \n2871  well that was certainly revealing if i ever do...            1   \n2872  i wouldnt be mentioning let alone boasting abo...            1   \n2873                                                NaN            1   \n2874                          corrupt joes unity speech            1   \n\n     stance_llama_8b  \n0            LIBERAL  \n1            LIBERAL  \n2              OTHER  \n3       CONSERVATIVE  \n4            LIBERAL  \n...              ...  \n2870    CONSERVATIVE  \n2871         LIBERAL  \n2872         LIBERAL  \n2873           OTHER  \n2874    CONSERVATIVE  \n\n[2875 rows x 3 columns]",
      "text/html": "<div>\n<style scoped>\n    .dataframe tbody tr th:only-of-type {\n        vertical-align: middle;\n    }\n\n    .dataframe tbody tr th {\n        vertical-align: top;\n    }\n\n    .dataframe thead th {\n        text-align: right;\n    }\n</style>\n<table border=\"1\" class=\"dataframe\">\n  <thead>\n    <tr style=\"text-align: right;\">\n      <th></th>\n      <th>comment</th>\n      <th>likes_count</th>\n      <th>stance_llama_8b</th>\n    </tr>\n  </thead>\n  <tbody>\n    <tr>\n      <th>0</th>\n      <td>you cant love your country only when you win</td>\n      <td>1627</td>\n      <td>LIBERAL</td>\n    </tr>\n    <tr>\n      <th>1</th>\n      <td>you cant only love your country when you win t...</td>\n      <td>1050</td>\n      <td>LIBERAL</td>\n    </tr>\n    <tr>\n      <th>2</th>\n      <td>the number of times mike johnson nodded in agr...</td>\n      <td>702</td>\n      <td>OTHER</td>\n    </tr>\n    <tr>\n      <th>3</th>\n      <td>dont pay congress until they do their job</td>\n      <td>650</td>\n      <td>CONSERVATIVE</td>\n    </tr>\n    <tr>\n      <th>4</th>\n      <td>unions build middle class not billionaires ind...</td>\n      <td>543</td>\n      <td>LIBERAL</td>\n    </tr>\n    <tr>\n      <th>...</th>\n      <td>...</td>\n      <td>...</td>\n      <td>...</td>\n    </tr>\n    <tr>\n      <th>2870</th>\n      <td>they pumped him full of dementia medication so...</td>\n      <td>1</td>\n      <td>CONSERVATIVE</td>\n    </tr>\n    <tr>\n      <th>2871</th>\n      <td>well that was certainly revealing if i ever do...</td>\n      <td>1</td>\n      <td>LIBERAL</td>\n    </tr>\n    <tr>\n      <th>2872</th>\n      <td>i wouldnt be mentioning let alone boasting abo...</td>\n      <td>1</td>\n      <td>LIBERAL</td>\n    </tr>\n    <tr>\n      <th>2873</th>\n      <td>NaN</td>\n      <td>1</td>\n      <td>OTHER</td>\n    </tr>\n    <tr>\n      <th>2874</th>\n      <td>corrupt joes unity speech</td>\n      <td>1</td>\n      <td>CONSERVATIVE</td>\n    </tr>\n  </tbody>\n</table>\n<p>2875 rows × 3 columns</p>\n</div>"
     },
     "execution_count": 92,
     "metadata": {},
     "output_type": "execute_result"
    }
   ],
   "source": [
    "with open('../comments/comments2/CNN-Full Speech: President Biden’s 2024 State of the Union address_liked.csv', 'r') as f:\n",
    "    df = pd.read_csv(f)\n",
    "df"
   ]
  },
  {
   "cell_type": "code",
   "execution_count": 93,
   "id": "21116605524c7e88",
   "metadata": {
    "collapsed": false,
    "ExecuteTime": {
     "end_time": "2024-06-20T05:20:44.828630Z",
     "start_time": "2024-06-20T05:20:42.324085Z"
    }
   },
   "outputs": [],
   "source": [
    "# Downloads the transformer to your device. After the first time running will load it from device\n",
    "model = SentenceTransformer('all-MiniLM-L6-v2')"
   ]
  },
  {
   "cell_type": "code",
   "outputs": [],
   "source": [
    "# remove nan values\n",
    "df = df.dropna()"
   ],
   "metadata": {
    "collapsed": false,
    "ExecuteTime": {
     "end_time": "2024-06-20T05:20:44.851951Z",
     "start_time": "2024-06-20T05:20:44.843865Z"
    }
   },
   "id": "17c309a3f1cd81da",
   "execution_count": 94
  },
  {
   "cell_type": "code",
   "outputs": [],
   "source": [
    "embeddings = df['comment'].map(lambda x: model.encode(x))"
   ],
   "metadata": {
    "collapsed": false,
    "is_executing": true,
    "ExecuteTime": {
     "start_time": "2024-06-20T05:20:44.853097Z"
    }
   },
   "id": "a9f3679fb594d80",
   "execution_count": null
  },
  {
   "cell_type": "code",
   "execution_count": null,
   "id": "3a0486db3c6e114c",
   "metadata": {
    "collapsed": false,
    "is_executing": true
   },
   "outputs": [],
   "source": [
    "# converts embeddings into a dataframe\n",
    "embeddings = embeddings.to_frame()\n",
    "embeddings = embeddings['comment'].apply(pd.Series)"
   ]
  },
  {
   "cell_type": "code",
   "execution_count": null,
   "id": "ae726779e957e467",
   "metadata": {
    "collapsed": false,
    "is_executing": true
   },
   "outputs": [],
   "source": [
    "embeddings_df = pd.DataFrame(embeddings)"
   ]
  },
  {
   "cell_type": "code",
   "outputs": [],
   "source": [
    "def cluster_x(embeddings_df, df, n_clusters, file_name):\n",
    "    gmm = GMM(n_components=n_clusters, covariance_type='diag', max_iter=2000, random_state=0).fit(embeddings_df)\n",
    "    labels = gmm.predict(embeddings_df)\n",
    "    df_x = df.copy()\n",
    "    df_x['label'] = labels\n",
    "    df_x = df_x.sort_values(by='label')\n",
    "    df_x.to_csv('../clustered_data/cluster/' + file_name + '_' + str(n_clusters) + '.csv', index=False)\n",
    "    return df_x"
   ],
   "metadata": {
    "collapsed": false,
    "is_executing": true
   },
   "id": "c5408a4c99d71525",
   "execution_count": null
  },
  {
   "cell_type": "code",
   "outputs": [],
   "source": [
    "df_2 = cluster_x(embeddings_df, df, 2, 'CNN-Full Speech: President Biden’s 2024 State of the Union address_liked')\n",
    "df_5 = cluster_x(embeddings_df, df, 5, 'CNN-Full Speech: President Biden’s 2024 State of the Union address_liked')\n",
    "df_10 = cluster_x(embeddings_df, df, 10, 'CNN-Full Speech: President Biden’s 2024 State of the Union address_liked')\n",
    "df_20 = cluster_x(embeddings_df, df, 20, 'CNN-Full Speech: President Biden’s 2024 State of the Union address_liked')\n",
    "df_30 = cluster_x(embeddings_df, df, 30, 'CNN-Full Speech: President Biden’s 2024 State of the Union address_liked')"
   ],
   "metadata": {
    "collapsed": false,
    "is_executing": true
   },
   "id": "5b93f5f7fc7c16bb",
   "execution_count": null
  },
  {
   "cell_type": "code",
   "outputs": [],
   "source": [
    "embeddings_df.columns = embeddings_df.columns.map(str)"
   ],
   "metadata": {
    "collapsed": false,
    "is_executing": true
   },
   "id": "609ed5dfb2b9a7bb",
   "execution_count": null
  },
  {
   "cell_type": "code",
   "outputs": [],
   "source": [
    "from sklearn.manifold import TSNE\n",
    "import matplotlib.pyplot as plt\n",
    "import seaborn as sns\n",
    "\n",
    "\n",
    "def plot_tsne_no_labels(df, title, random_state=0):\n",
    "    tsne = TSNE(n_components=3, verbose=1, perplexity=40, n_iter=300, random_state=random_state)\n",
    "    tsne_results = tsne.fit_transform(df)\n",
    "    df['tsne-2d-one'] = tsne_results[:,0]\n",
    "    df['tsne-2d-two'] = tsne_results[:,1]\n",
    "    plt.figure(figsize=(16,10))\n",
    "    sns.scatterplot(\n",
    "        x=\"tsne-2d-one\", y=\"tsne-2d-two\",\n",
    "        data=df,\n",
    "        legend=None,\n",
    "        alpha=0.3\n",
    "    )\n",
    "    plt.title(title)\n",
    "    plt.show()\n",
    "\n",
    "\n",
    "def plot_tsne(embeddings_df, labels, title, random_state=0):\n",
    "    df = embeddings_df.copy()\n",
    "    df['label'] = labels\n",
    "    tsne = TSNE(n_components=3, verbose=1, perplexity=40, n_iter=300, random_state=random_state)\n",
    "    tsne_results = tsne.fit_transform(df)\n",
    "    df['tsne-2d-one'] = tsne_results[:,0]\n",
    "    df['tsne-2d-two'] = tsne_results[:,1]\n",
    "    plt.figure(figsize=(16,10))\n",
    "    sns.scatterplot(\n",
    "        x=\"tsne-2d-one\", y=\"tsne-2d-two\",\n",
    "        hue=labels,\n",
    "        palette=sns.color_palette(\"hsv\", len(set(labels))),\n",
    "        data=df,\n",
    "        legend=\"full\",\n",
    "        alpha=0.3\n",
    "    )\n",
    "    plt.title(title)\n",
    "    plt.show()"
   ],
   "metadata": {
    "collapsed": false,
    "is_executing": true
   },
   "id": "829821b09c2d0763",
   "execution_count": null
  },
  {
   "cell_type": "code",
   "outputs": [],
   "source": [
    "plot_tsne(embeddings_df, df_2['label'], '2 clusters')\n",
    "plot_tsne(embeddings_df, df_5['label'], '5 clusters')\n",
    "plot_tsne(embeddings_df, df_10['label'], '10 clusters')\n",
    "plot_tsne(embeddings_df, df_20['label'], '20 clusters')\n",
    "plot_tsne(embeddings_df, df_30['label'], '30 clusters')"
   ],
   "metadata": {
    "collapsed": false,
    "is_executing": true
   },
   "id": "54ffe3949fd66aa0",
   "execution_count": null
  },
  {
   "cell_type": "code",
   "outputs": [],
   "source": [
    "# 3d plot\n",
    "from mpl_toolkits.mplot3d import Axes3D\n",
    "\n",
    "def plot_tsne_3d(df, labels, title, random_state=0):\n",
    "    tsne = TSNE(n_components=3, verbose=1, perplexity=40, n_iter=300, random_state=random_state)\n",
    "    tsne_results = tsne.fit_transform(df)\n",
    "    df['tsne-3d-one'] = tsne_results[:,0]\n",
    "    df['tsne-3d-two'] = tsne_results[:,1]\n",
    "    df['tsne-3d-three'] = tsne_results[:,2]\n",
    "    fig = plt.figure(figsize=(16,10))\n",
    "    ax = fig.add_subplot(111, projection='3d')\n",
    "    ax.scatter(df['tsne-3d-one'], df['tsne-3d-two'], df['tsne-3d-three'], c=labels, cmap='hsv', alpha=0.3, s=10)\n",
    "    plt.title(title)\n",
    "    plt.show()\n",
    "    \n",
    "plot_tsne_3d(embeddings_df, df_2['label'], '2 clusters')\n",
    "plot_tsne_3d(embeddings_df, df_5['label'], '5 clusters')\n",
    "plot_tsne_3d(embeddings_df, df_10['label'], '10 clusters')\n",
    "plot_tsne_3d(embeddings_df, df_20['label'], '20 clusters')\n",
    "plot_tsne_3d(embeddings_df, df_30['label'], '30 clusters')"
   ],
   "metadata": {
    "collapsed": false,
    "is_executing": true
   },
   "id": "dee6a806d9e7bd48",
   "execution_count": null
  },
  {
   "cell_type": "code",
   "outputs": [],
   "source": [
    "# add comment to the dataframe\n",
    "embeddings_comment = pd.concat([embeddings_df, df['comment']], axis=1)\n",
    "embeddings_comment"
   ],
   "metadata": {
    "collapsed": false,
    "is_executing": true
   },
   "id": "c3ed48e4655b3988",
   "execution_count": null
  },
  {
   "cell_type": "code",
   "outputs": [],
   "source": [
    "import plotly.express as px\n",
    "from sklearn.manifold import TSNE\n",
    "\n",
    "def plot_tsne_3d_interactive(df, labels, title, random_state=0):\n",
    "    tsne = TSNE(n_components=3, verbose=1, perplexity=40, n_iter=300, random_state=random_state)\n",
    "    # embeddings are the first to the second last columns\n",
    "    tsne_results = tsne.fit_transform(df[df.columns[:-1]])\n",
    "    df['tsne-3d-one'] = tsne_results[:,0]\n",
    "    df['tsne-3d-two'] = tsne_results[:,1]\n",
    "    df['tsne-3d-three'] = tsne_results[:,2]\n",
    "    \n",
    "    fig = px.scatter_3d(\n",
    "        df, x='tsne-3d-one', y='tsne-3d-two', z='tsne-3d-three',\n",
    "        color=labels, title=title, opacity=0.7,\n",
    "        hover_data={'comment': True}\n",
    "    )\n",
    "    \n",
    "    # hover the comment when mouse is over the point\n",
    "    fig.update_traces(marker=dict(size=3))\n",
    "    fig.update_layout(\n",
    "        scene=dict(\n",
    "            xaxis_title='tsne-3d-one',\n",
    "            yaxis_title='tsne-3d-two',\n",
    "            zaxis_title='tsne-3d-three'\n",
    "        ),\n",
    "        width=1200,\n",
    "        height=800\n",
    "    )\n",
    "    \n",
    "    fig.show()\n",
    "\n",
    "# Example usage\n",
    "plot_tsne_3d_interactive(embeddings_comment, df_2['label'], '2 clusters')\n",
    "plot_tsne_3d_interactive(embeddings_comment, df_5['label'], '5 clusters')\n",
    "plot_tsne_3d_interactive(embeddings_comment, df_10['label'], '10 clusters')\n",
    "plot_tsne_3d_interactive(embeddings_comment, df_20['label'], '20 clusters')\n",
    "plot_tsne_3d_interactive(embeddings_comment, df_30['label'], '30 clusters')"
   ],
   "metadata": {
    "collapsed": false,
    "is_executing": true
   },
   "id": "9bb5c5483c96cb8f",
   "execution_count": null
  }
 ],
 "metadata": {
  "kernelspec": {
   "display_name": "Python 3 (ipykernel)",
   "language": "python",
   "name": "python3"
  },
  "language_info": {
   "codemirror_mode": {
    "name": "ipython",
    "version": 3
   },
   "file_extension": ".py",
   "mimetype": "text/x-python",
   "name": "python",
   "nbconvert_exporter": "python",
   "pygments_lexer": "ipython3",
   "version": "3.10.6"
  }
 },
 "nbformat": 4,
 "nbformat_minor": 5
}
