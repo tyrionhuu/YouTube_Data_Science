{
 "cells": [
  {
   "cell_type": "code",
   "outputs": [],
   "source": [
    "from sentence_transformers import SentenceTransformer\n",
    "import csv\n",
    "import pandas as pd\n",
    "from sklearn.mixture import GaussianMixture as GMM\n",
    "import os\n",
    "\n",
    "os.environ['TOKENIZERS_PARALLELISM'] = 'false'"
   ],
   "metadata": {
    "collapsed": false,
    "ExecuteTime": {
     "end_time": "2024-05-02T01:10:51.636054Z",
     "start_time": "2024-05-02T01:10:51.631845Z"
    }
   },
   "id": "6beceb36ed9a1539",
   "execution_count": 34
  },
  {
   "cell_type": "code",
   "execution_count": 35,
   "id": "cda8920535211f0f",
   "metadata": {
    "collapsed": false,
    "ExecuteTime": {
     "end_time": "2024-05-02T01:10:51.653037Z",
     "start_time": "2024-05-02T01:10:51.637870Z"
    }
   },
   "outputs": [
    {
     "data": {
      "text/plain": "                                                comment  likes_count\n0          you cant love your country only when you win         1627\n1     you cant only love your country when you win t...         1050\n2     the number of times mike johnson nodded in agr...          702\n3             dont pay congress until they do their job          650\n4     unions build middle class not billionaires ind...          543\n...                                                 ...          ...\n2870  they pumped him full of dementia medication so...            1\n2871  well that was certainly revealing if i ever do...            1\n2872  i wouldnt be mentioning let alone boasting abo...            1\n2873                                                NaN            1\n2874                          corrupt joes unity speech            1\n\n[2875 rows x 2 columns]",
      "text/html": "<div>\n<style scoped>\n    .dataframe tbody tr th:only-of-type {\n        vertical-align: middle;\n    }\n\n    .dataframe tbody tr th {\n        vertical-align: top;\n    }\n\n    .dataframe thead th {\n        text-align: right;\n    }\n</style>\n<table border=\"1\" class=\"dataframe\">\n  <thead>\n    <tr style=\"text-align: right;\">\n      <th></th>\n      <th>comment</th>\n      <th>likes_count</th>\n    </tr>\n  </thead>\n  <tbody>\n    <tr>\n      <th>0</th>\n      <td>you cant love your country only when you win</td>\n      <td>1627</td>\n    </tr>\n    <tr>\n      <th>1</th>\n      <td>you cant only love your country when you win t...</td>\n      <td>1050</td>\n    </tr>\n    <tr>\n      <th>2</th>\n      <td>the number of times mike johnson nodded in agr...</td>\n      <td>702</td>\n    </tr>\n    <tr>\n      <th>3</th>\n      <td>dont pay congress until they do their job</td>\n      <td>650</td>\n    </tr>\n    <tr>\n      <th>4</th>\n      <td>unions build middle class not billionaires ind...</td>\n      <td>543</td>\n    </tr>\n    <tr>\n      <th>...</th>\n      <td>...</td>\n      <td>...</td>\n    </tr>\n    <tr>\n      <th>2870</th>\n      <td>they pumped him full of dementia medication so...</td>\n      <td>1</td>\n    </tr>\n    <tr>\n      <th>2871</th>\n      <td>well that was certainly revealing if i ever do...</td>\n      <td>1</td>\n    </tr>\n    <tr>\n      <th>2872</th>\n      <td>i wouldnt be mentioning let alone boasting abo...</td>\n      <td>1</td>\n    </tr>\n    <tr>\n      <th>2873</th>\n      <td>NaN</td>\n      <td>1</td>\n    </tr>\n    <tr>\n      <th>2874</th>\n      <td>corrupt joes unity speech</td>\n      <td>1</td>\n    </tr>\n  </tbody>\n</table>\n<p>2875 rows × 2 columns</p>\n</div>"
     },
     "execution_count": 35,
     "metadata": {},
     "output_type": "execute_result"
    }
   ],
   "source": [
    "with open('../preprocessed_comments/CNN-Full Speech: President Biden’s 2024 State of the Union address_liked.csv', 'r') as f:\n",
    "    df = pd.read_csv(f)\n",
    "df"
   ]
  },
  {
   "cell_type": "code",
   "execution_count": 36,
   "id": "21116605524c7e88",
   "metadata": {
    "collapsed": false,
    "ExecuteTime": {
     "end_time": "2024-05-02T01:10:54.053325Z",
     "start_time": "2024-05-02T01:10:51.654547Z"
    }
   },
   "outputs": [],
   "source": [
    "# Downloads the transformer to your device. After the first time running will load it from device\n",
    "model = SentenceTransformer('all-MiniLM-L6-v2')"
   ]
  },
  {
   "cell_type": "code",
   "outputs": [],
   "source": [
    "# remove nan values\n",
    "df = df.dropna()"
   ],
   "metadata": {
    "collapsed": false,
    "ExecuteTime": {
     "end_time": "2024-05-02T01:10:54.056791Z",
     "start_time": "2024-05-02T01:10:54.054006Z"
    }
   },
   "id": "17c309a3f1cd81da",
   "execution_count": 37
  },
  {
   "cell_type": "code",
   "outputs": [],
   "source": [
    "embeddings = df['comment'].map(lambda x: model.encode(x))"
   ],
   "metadata": {
    "collapsed": false,
    "ExecuteTime": {
     "end_time": "2024-05-02T01:11:19.163358Z",
     "start_time": "2024-05-02T01:10:54.058417Z"
    }
   },
   "id": "a9f3679fb594d80",
   "execution_count": 38
  },
  {
   "cell_type": "code",
   "execution_count": 39,
   "id": "3a0486db3c6e114c",
   "metadata": {
    "collapsed": false,
    "ExecuteTime": {
     "end_time": "2024-05-02T01:11:19.249438Z",
     "start_time": "2024-05-02T01:11:19.164347Z"
    }
   },
   "outputs": [],
   "source": [
    "# converts embeddings into a dataframe\n",
    "embeddings = embeddings.to_frame()\n",
    "embeddings = embeddings['comment'].apply(pd.Series)"
   ]
  },
  {
   "cell_type": "code",
   "execution_count": 40,
   "id": "ae726779e957e467",
   "metadata": {
    "collapsed": false,
    "ExecuteTime": {
     "end_time": "2024-05-02T01:11:19.253076Z",
     "start_time": "2024-05-02T01:11:19.250266Z"
    }
   },
   "outputs": [],
   "source": [
    "embeddings_df = pd.DataFrame(embeddings)"
   ]
  },
  {
   "cell_type": "code",
   "execution_count": 41,
   "id": "54b52fd0c7d551fb",
   "metadata": {
    "collapsed": false,
    "ExecuteTime": {
     "end_time": "2024-05-02T01:11:21.701414Z",
     "start_time": "2024-05-02T01:11:19.253969Z"
    }
   },
   "outputs": [],
   "source": [
    "# fit the GMM model\n",
    "gmm_10 = GMM(n_components=10, covariance_type='diag', max_iter=2000, random_state=0).fit(embeddings_df)\n",
    "gmm_5 = GMM(n_components=5, covariance_type='diag', max_iter=2000, random_state=0).fit(embeddings_df)\n",
    "gmm_2 = GMM(n_components=2, covariance_type='diag', max_iter=2000, random_state=0).fit(embeddings_df)\n",
    "# Predict the labels for the data samples\n",
    "labels_10 = gmm_10.predict(embeddings_df)\n",
    "labels_5 = gmm_5.predict(embeddings_df)\n",
    "labels_2 = gmm_2.predict(embeddings_df)"
   ]
  },
  {
   "cell_type": "code",
   "outputs": [],
   "source": [
    "df_10 = df.copy()\n",
    "df_5 = df.copy()\n",
    "df_2 = df.copy()\n",
    "# Save data frame with labels\n",
    "df_10['label'] = labels_10\n",
    "df_5['label'] = labels_5\n",
    "df_2['label'] = labels_2\n",
    "\n",
    "# Sort by label\n",
    "df_10 = df_10.sort_values(by='label')\n",
    "df_5 = df_5.sort_values(by='label')\n",
    "df_2 = df_2.sort_values(by='label')"
   ],
   "metadata": {
    "collapsed": false,
    "ExecuteTime": {
     "end_time": "2024-05-02T01:11:21.771329Z",
     "start_time": "2024-05-02T01:11:21.705679Z"
    }
   },
   "id": "5b93f5f7fc7c16bb",
   "execution_count": 42
  },
  {
   "cell_type": "code",
   "outputs": [],
   "source": [
    "file_name = 'CNN-Full Speech: President Biden’s 2024 State of the Union address_liked'\n",
    "df_2.to_csv('../clustered_data/cluster/' + file_name + '_2.csv', index=False)\n",
    "df_5.to_csv('../clustered_data/cluster/' + file_name + '_5.csv', index=False)\n",
    "df_10.to_csv('../clustered_data/cluster/' + file_name + '_10.csv', index=False)"
   ],
   "metadata": {
    "collapsed": false,
    "ExecuteTime": {
     "end_time": "2024-05-02T01:12:31.330969Z",
     "start_time": "2024-05-02T01:12:31.301384Z"
    }
   },
   "id": "1ea872ecf71b8521",
   "execution_count": 44
  },
  {
   "cell_type": "code",
   "outputs": [
    {
     "ename": "AttributeError",
     "evalue": "'TfidfVectorizer' object has no attribute 'get_feature_names'",
     "output_type": "error",
     "traceback": [
      "\u001B[0;31m---------------------------------------------------------------------------\u001B[0m",
      "\u001B[0;31mAttributeError\u001B[0m                            Traceback (most recent call last)",
      "Cell \u001B[0;32mIn[47], line 15\u001B[0m\n\u001B[1;32m     12\u001B[0m model\u001B[38;5;241m.\u001B[39mfit(X)\n\u001B[1;32m     14\u001B[0m order_centroids \u001B[38;5;241m=\u001B[39m model\u001B[38;5;241m.\u001B[39mcluster_centers_\u001B[38;5;241m.\u001B[39margsort()[:, ::\u001B[38;5;241m-\u001B[39m\u001B[38;5;241m1\u001B[39m]\n\u001B[0;32m---> 15\u001B[0m terms \u001B[38;5;241m=\u001B[39m \u001B[43mtfidf\u001B[49m\u001B[38;5;241;43m.\u001B[39;49m\u001B[43mget_feature_names\u001B[49m()\n\u001B[1;32m     17\u001B[0m \u001B[38;5;28;01mfor\u001B[39;00m i \u001B[38;5;129;01min\u001B[39;00m \u001B[38;5;28mrange\u001B[39m(true_k):\n\u001B[1;32m     18\u001B[0m     \u001B[38;5;28mprint\u001B[39m(\u001B[38;5;124m\"\u001B[39m\u001B[38;5;124mCluster \u001B[39m\u001B[38;5;132;01m%d\u001B[39;00m\u001B[38;5;124m:\u001B[39m\u001B[38;5;124m\"\u001B[39m \u001B[38;5;241m%\u001B[39m i),\n",
      "\u001B[0;31mAttributeError\u001B[0m: 'TfidfVectorizer' object has no attribute 'get_feature_names'"
     ]
    }
   ],
   "source": [
    "# Save the model"
   ],
   "metadata": {
    "collapsed": false,
    "ExecuteTime": {
     "end_time": "2024-05-03T06:07:55.504177Z",
     "start_time": "2024-05-03T06:07:55.300506Z"
    }
   },
   "id": "e6ea0e419c7ada51",
   "execution_count": 47
  },
  {
   "cell_type": "code",
   "outputs": [],
   "source": [],
   "metadata": {
    "collapsed": false
   },
   "id": "9fb92cee6072af35"
  }
 ],
 "metadata": {
  "kernelspec": {
   "display_name": "Python 3 (ipykernel)",
   "language": "python",
   "name": "python3"
  },
  "language_info": {
   "codemirror_mode": {
    "name": "ipython",
    "version": 3
   },
   "file_extension": ".py",
   "mimetype": "text/x-python",
   "name": "python",
   "nbconvert_exporter": "python",
   "pygments_lexer": "ipython3",
   "version": "3.10.6"
  }
 },
 "nbformat": 4,
 "nbformat_minor": 5
}
