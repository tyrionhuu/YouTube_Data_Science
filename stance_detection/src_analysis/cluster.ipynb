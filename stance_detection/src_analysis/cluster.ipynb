{
 "cells": [
  {
   "cell_type": "code",
   "outputs": [],
   "source": [
    "from sentence_transformers import SentenceTransformer\n",
    "import json\n",
    "import pandas as pd\n",
    "from sklearn.mixture import GaussianMixture as GMM\n",
    "import os\n",
    "\n",
    "os.environ['TOKENIZERS_PARALLELISM'] = 'false'"
   ],
   "metadata": {
    "collapsed": false,
    "ExecuteTime": {
     "end_time": "2024-03-19T05:48:53.075878Z",
     "start_time": "2024-03-19T05:48:53.072027Z"
    }
   },
   "id": "6beceb36ed9a1539",
   "execution_count": 34
  },
  {
   "cell_type": "code",
   "execution_count": 35,
   "id": "cda8920535211f0f",
   "metadata": {
    "collapsed": false,
    "ExecuteTime": {
     "end_time": "2024-03-19T05:48:53.081210Z",
     "start_time": "2024-03-19T05:48:53.077360Z"
    }
   },
   "outputs": [],
   "source": [
    "with open('../data/cleaned_comments.json') as comments_file:\n",
    "    comments = json.load(comments_file)"
   ]
  },
  {
   "cell_type": "code",
   "execution_count": 36,
   "id": "74da84abc480a4f6",
   "metadata": {
    "collapsed": false,
    "ExecuteTime": {
     "end_time": "2024-03-19T05:48:53.086723Z",
     "start_time": "2024-03-19T05:48:53.082337Z"
    }
   },
   "outputs": [],
   "source": [
    "# convert comments into a dataframe\n",
    "df = pd.DataFrame({'comment': comments})"
   ]
  },
  {
   "cell_type": "code",
   "execution_count": 37,
   "id": "21116605524c7e88",
   "metadata": {
    "collapsed": false,
    "ExecuteTime": {
     "end_time": "2024-03-19T05:48:55.847185Z",
     "start_time": "2024-03-19T05:48:53.088088Z"
    }
   },
   "outputs": [],
   "source": [
    "# Downloads the transformer to your device. After the first time running will load it from device\n",
    "model = SentenceTransformer('all-MiniLM-L6-v2')"
   ]
  },
  {
   "cell_type": "code",
   "execution_count": 38,
   "id": "c98c01506a280806",
   "metadata": {
    "collapsed": false,
    "ExecuteTime": {
     "end_time": "2024-03-19T05:49:32.245634Z",
     "start_time": "2024-03-19T05:48:55.848829Z"
    }
   },
   "outputs": [],
   "source": [
    "# convert text into embeddings\n",
    "embeddings = df['comment'].map(lambda x: model.encode(x))"
   ]
  },
  {
   "cell_type": "code",
   "execution_count": 39,
   "id": "3a0486db3c6e114c",
   "metadata": {
    "collapsed": false,
    "ExecuteTime": {
     "end_time": "2024-03-19T05:49:32.557185Z",
     "start_time": "2024-03-19T05:49:32.247121Z"
    }
   },
   "outputs": [],
   "source": [
    "# converts embeddings into a dataframe\n",
    "embeddings = embeddings.to_frame()\n",
    "embeddings = embeddings['comment'].apply(pd.Series)"
   ]
  },
  {
   "cell_type": "code",
   "execution_count": 40,
   "id": "ae726779e957e467",
   "metadata": {
    "collapsed": false,
    "ExecuteTime": {
     "end_time": "2024-03-19T05:49:32.561059Z",
     "start_time": "2024-03-19T05:49:32.558051Z"
    }
   },
   "outputs": [],
   "source": [
    "embeddings_df = pd.DataFrame(embeddings)"
   ]
  },
  {
   "cell_type": "code",
   "execution_count": 41,
   "id": "54b52fd0c7d551fb",
   "metadata": {
    "collapsed": false,
    "ExecuteTime": {
     "end_time": "2024-03-19T05:49:34.555153Z",
     "start_time": "2024-03-19T05:49:32.562996Z"
    }
   },
   "outputs": [],
   "source": [
    "# fit the GMM model\n",
    "gmm_10 = GMM(n_components=10, covariance_type='diag', max_iter=2000, random_state=0).fit(embeddings_df)\n",
    "gmm_5 = GMM(n_components=5, covariance_type='diag', max_iter=2000, random_state=0).fit(embeddings_df)\n",
    "gmm_2 = GMM(n_components=2, covariance_type='diag', max_iter=2000, random_state=0).fit(embeddings_df)\n",
    "# Predict the labels for the data samples\n",
    "labels_10 = gmm_10.predict(embeddings_df)\n",
    "labels_5 = gmm_5.predict(embeddings_df)\n",
    "labels_2 = gmm_2.predict(embeddings_df)"
   ]
  },
  {
   "cell_type": "code",
   "outputs": [],
   "source": [
    "df_10 = df.copy()\n",
    "df_5 = df.copy()\n",
    "df_2 = df.copy()\n",
    "# Save data frame with labels\n",
    "df_10['label'] = labels_10\n",
    "df_5['label'] = labels_5\n",
    "df_2['label'] = labels_2\n",
    "\n",
    "# Sort by label\n",
    "df_10 = df_10.sort_values(by='label')\n",
    "df_5 = df_5.sort_values(by='label')\n",
    "df_2 = df_2.sort_values(by='label')"
   ],
   "metadata": {
    "collapsed": false,
    "ExecuteTime": {
     "end_time": "2024-03-19T05:49:34.567098Z",
     "start_time": "2024-03-19T05:49:34.559086Z"
    }
   },
   "id": "5b93f5f7fc7c16bb",
   "execution_count": 42
  },
  {
   "cell_type": "code",
   "outputs": [],
   "source": [
    "df_2.to_csv('../clustered_comments/2_clustered_comments.csv', index=False)\n",
    "df_5.to_csv('../clustered_comments/5_clustered_comments.csv', index=False)\n",
    "df_10.to_csv('../clustered_comments/10_clustered_comments.csv', index=False)"
   ],
   "metadata": {
    "collapsed": false,
    "ExecuteTime": {
     "end_time": "2024-03-19T05:49:34.596661Z",
     "start_time": "2024-03-19T05:49:34.568001Z"
    }
   },
   "id": "1ea872ecf71b8521",
   "execution_count": 43
  },
  {
   "cell_type": "code",
   "outputs": [],
   "source": [],
   "metadata": {
    "collapsed": false,
    "ExecuteTime": {
     "end_time": "2024-03-19T05:49:34.632326Z",
     "start_time": "2024-03-19T05:49:34.613757Z"
    }
   },
   "id": "afa1aa3af233b2a8",
   "execution_count": 43
  }
 ],
 "metadata": {
  "kernelspec": {
   "display_name": "Python 3 (ipykernel)",
   "language": "python",
   "name": "python3"
  },
  "language_info": {
   "codemirror_mode": {
    "name": "ipython",
    "version": 3
   },
   "file_extension": ".py",
   "mimetype": "text/x-python",
   "name": "python",
   "nbconvert_exporter": "python",
   "pygments_lexer": "ipython3",
   "version": "3.10.6"
  }
 },
 "nbformat": 4,
 "nbformat_minor": 5
}
