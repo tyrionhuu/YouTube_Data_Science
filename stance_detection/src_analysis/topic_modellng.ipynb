{
 "cells": [
  {
   "cell_type": "code",
   "execution_count": 144,
   "id": "initial_id",
   "metadata": {
    "collapsed": true,
    "ExecuteTime": {
     "end_time": "2024-04-08T04:00:21.477241Z",
     "start_time": "2024-04-08T04:00:21.469442Z"
    }
   },
   "outputs": [],
   "source": [
    "data_directory = \"../data/\""
   ]
  },
  {
   "cell_type": "code",
   "outputs": [
    {
     "name": "stderr",
     "output_type": "stream",
     "text": [
      "[nltk_data] Downloading package stopwords to\n",
      "[nltk_data]     /usr/local/share/nltk_data...\n",
      "[nltk_data]   Package stopwords is already up-to-date!\n",
      "[nltk_data] Downloading package wordnet to\n",
      "[nltk_data]     /usr/local/share/nltk_data...\n",
      "[nltk_data]   Package wordnet is already up-to-date!\n",
      "[nltk_data] Downloading package omw-1.4 to\n",
      "[nltk_data]     /usr/local/share/nltk_data...\n",
      "[nltk_data]   Package omw-1.4 is already up-to-date!\n"
     ]
    }
   ],
   "source": [
    "import string\n",
    "import nltk\n",
    "nltk.download('stopwords')\n",
    "nltk.download('wordnet')  \n",
    "nltk.download('omw-1.4')  \n",
    "from nltk.corpus import stopwords\n",
    "from nltk.stem.wordnet import WordNetLemmatizer\n",
    "\n",
    "\n",
    "# remove stopwords, punctuation, and normalize the corpus\n",
    "stop = set(stopwords.words('english'))\n",
    "exclude = set(string.punctuation)\n",
    "lemma = WordNetLemmatizer()\n",
    "\n",
    "def preprocess(transcript):\n",
    "    stop_free = \" \".join([i for i in transcript.lower().split() if i not in stop])\n",
    "    punc_free = \"\".join(ch for ch in stop_free if ch not in exclude)\n",
    "    normalized = \" \".join(lemma.lemmatize(word) for word in punc_free.split())\n",
    "    return normalized"
   ],
   "metadata": {
    "collapsed": false,
    "ExecuteTime": {
     "end_time": "2024-04-08T04:00:22.703628Z",
     "start_time": "2024-04-08T04:00:21.481219Z"
    }
   },
   "id": "5128f2e59e0e733f",
   "execution_count": 145
  },
  {
   "cell_type": "code",
   "outputs": [],
   "source": [
    "import gensim\n",
    "from gensim import corpora\n",
    "\n",
    "\n",
    "def lsa_modeling(data, num_topics=10):\n",
    "    dictionary = corpora.Dictionary(data)\n",
    "    doc_term_matrix = [dictionary.doc2bow(doc) for doc in data]\n",
    "    lsa = gensim.models.LsiModel(doc_term_matrix, num_topics=num_topics, id2word = dictionary)\n",
    "    return lsa"
   ],
   "metadata": {
    "collapsed": false,
    "ExecuteTime": {
     "end_time": "2024-04-08T04:00:22.707016Z",
     "start_time": "2024-04-08T04:00:22.704653Z"
    }
   },
   "id": "dfc3abb3d82a206f",
   "execution_count": 146
  },
  {
   "cell_type": "code",
   "outputs": [],
   "source": [
    "def lda_modeling(data, num_topics=10):\n",
    "    dictionary = corpora.Dictionary(data)\n",
    "    doc_term_matrix = [dictionary.doc2bow(doc) for doc in data]\n",
    "    lda = gensim.models.LdaModel(doc_term_matrix, num_topics=num_topics, id2word = dictionary, passes=15)\n",
    "    return lda"
   ],
   "metadata": {
    "collapsed": false,
    "ExecuteTime": {
     "end_time": "2024-04-08T04:00:22.710241Z",
     "start_time": "2024-04-08T04:00:22.707817Z"
    }
   },
   "id": "7941474957734872",
   "execution_count": 147
  },
  {
   "cell_type": "code",
   "outputs": [],
   "source": [
    "def topic_modeling(transcript, num_topics=10):\n",
    "    data = [transcript.split()]\n",
    "    lsa = lsa_modeling(data, num_topics)\n",
    "    lda = lda_modeling(data, num_topics)\n",
    "    return lsa, lda"
   ],
   "metadata": {
    "collapsed": false,
    "ExecuteTime": {
     "end_time": "2024-04-08T04:00:22.713873Z",
     "start_time": "2024-04-08T04:00:22.711843Z"
    }
   },
   "id": "2818fd54e0ccf42b",
   "execution_count": 148
  },
  {
   "cell_type": "code",
   "outputs": [],
   "source": [
    "import json\n",
    "\n",
    "\n",
    "def get_transcripts(file):\n",
    "    with open(file, 'r') as f:\n",
    "        data = json.load(f)\n",
    "    transcript = data['video_transcript']\n",
    "    return transcript"
   ],
   "metadata": {
    "collapsed": false,
    "ExecuteTime": {
     "end_time": "2024-04-08T04:00:22.716399Z",
     "start_time": "2024-04-08T04:00:22.714503Z"
    }
   },
   "id": "d6cd2c7bcad4ad4a",
   "execution_count": 149
  },
  {
   "cell_type": "code",
   "outputs": [
    {
     "name": "stdout",
     "output_type": "stream",
     "text": [
      "find president libel well see mean martha thanks eric decision were waiting content it 92 page long price judge engoron found former president donald trump libel case civil case money criminality rewind little bit here there lot different case keep track on case letitia james said running attorney general going get trump well play said decision in 92 page long james asked 370 million damage want prevented business new york state wait download get look number soon get it well tell is something former president watching closely layer judicial date appointment decision coming middle south carolina primary coming february 24 super tuesday interwoven former president trump want bring ari fleischer former white house press secretary fox news contributor shannon breen chief legal correspondent shannon let start you surprise obviously found libel judge found libel case began correct correct jetted bottom see could find there several big number there judge talk finding donald trump donald trump jr eric trump alan weisselberg others involved one first thing order several together including donald trump trust trump organization pay 168 million change next paragraph say there another ruling 126 million change another one 60 million well look see theyre overlapping add up number coming out donald trump jr 4 million one case allen wiseleburg million dollar there lot number there well parse number theyre big big ask look like may neighborhood close 300 million more martha were seeing this believe reuters report were starting balance number here according reporting there number 3549 million say damage spread across number trump family member deeply involved business jr eric trump 4 million perhaps equally importantly according early reporting were seeing here judge banned donald trump serving officer director new york corporation legal entity new york three year period this now lot impact president trump he running president hope president time eric trump jr eric large way instrumental business here would prevent serving officer director new york corporation legal entity new york two year 355 million judgment arthur engoron former president donald trump ari reaction this martha hard time seeing court case including one anything continuation resistance began donald trump elected president instantly protester took street fifth avenue look case theyre brought former president bluest blue county across united state america brought purple county let alone red county would chance success whether jury judge think continuation nastiness law turned serve political end letitia james attorney general new york campaigned getting donald trump remember said that im new yorker remember candidate vowed that struck miscarriage justice delivered it even bigger miscarriage also judge say trump organization must install independent director compliance say independent monitor shall continue role say least three year shannon know case come former president one would say hush money stormy daniel case problematic term interpretation lot people study law do case none bank came forward none real estate investment company came forward said trump organization failed repay them claimed maralargo estate example worth 18 million preposterous anybody id love get that get cottage neighborhood kind money really shocking political appears going him let play letitia james comment running attorney general watch this one law including ill legitimate president look forward going office attorney general every day suing him defending right going home say one name donald trump motivate you sue u oh were going definitely sue him were going real pain bleep he going know name martha every time see that shocking behavior someone want attorney general yeah line nobody law folk say nobody either cannot use law cujole go argument president make prosecution theyre persecution bali rally every time noted continues note victim here people demanded justice attorney general new york even though were referring supreme court unusual language use new york final court appeal court appeal state supreme court trump team feel like really strong measure appeal doubt theyre going take every penny appeal happens meantime lot put hold taking business license kind thing well see appeal doubt thats theyre going do martha ari valuate property purpose insurance purpose getting loan bank come language say assessment bank assessment much property valued none case involving trump organization party bring litigation trump organization false representation correct no exactly right nobody ever accused new york banker insurance people behind ball guy sharp know sharpen pencil put political category legal category one reason norm broken country democrat go kind resort get somebody like lose faith system thing two impeachment violated rule house get man want perverse result theyll get man want result donald trump leap frogged republican nomination wanted get rid trump prosecuted ron desantis may chance back january 2023 indictment led rallying base way people question justice fouryear pattern donald trump president foolish thing democrat could unless want return power martha right ignoring might produced different outcome think 91 indictment individual shannon looking civil case monetary price tag them criminal case here looked back oj simpson found libel death two people wife nicole brown friend 33 million death two human being one high profile case american history think that clearly victim case go back argument nobody complained ever got paid back regardless feel outcome president former president supporter argument political look way especially clip played earlier something interesting know fox polling week talked folk new hampshire iowa everywhere said would move away president trump indicted convicted softening he convicted criminal charge new polling critical state new hampshire michigan week found biden supporter worried mental acutie trump supporter worried legal issue rally base him forced gop rival run defense every time indicted ari point out cleared field different way voter say majority move them waiver face verdict like this martha right shannon there end indication negative impact anything positive impact see attack understand like thumb government law one way find president libel we’ll see mean martha thanks eric decision we’re waiting content it it’s 92 page long it’s price judge engoron found former president donald trump libel case civil case money criminality rewind little bit here there’s lot different case keep track on case letitia james said running attorney general going get trump we’ll play said decision in it’s 92 page long james asked 370 million damage want prevented business new york state wait download get look number soon get it we’ll tell is something former president watching closely layer judicial date appointment decision coming middle south carolina primary coming february 24 super tuesday interwoven former president trump want bring ari fleischer former white house press secretary fox news contributor shannon breen chief legal correspondent shannon let’s start you surprise obviously found libel judge found libel case began correct correct jetted bottom see could find there’s several big number there judge talk finding donald trump donald trump jr eric trump alan weisselberg others involved one first thing order several together including donald trump trust trump organization pay 168 million change next paragraph say there’s another ruling 126 million change another one 60 million we’ll look see they’re overlapping add up number coming out donald trump jr 4 million one case allen wiseleburg million dollar there’s lot number there we’ll parse number they’re big big ask look like may neighborhood close 300 million more martha we’re seeing this believe reuter’s report we’re starting balance number here according reporting there number 3549 million say damage spread across number trump family member deeply involved business jr eric trump 4 million perhaps equally importantly according early reporting we’re seeing here judge banned donald trump serving officer director new york corporation legal entity new york three year period this now wouldn’t lot impact president trump he’s running president hope president time eric trump jr eric large way instrumental business here would prevent serving officer director new york corporation legal entity new york two year 355 million judgment arthur engoron former president donald trump ari reaction this martha hard time seeing court case including one anything continuation resistance began donald trump elected president instantly protester took street fifth avenue look case they’re brought former president bluest blue county across united state america brought purple county let alone red county would chance success whether jury judge think continuation nastiness law turned serve political end letitia james attorney general new york campaigned getting donald trump remember said that i’m new yorker remember candidate vowed that struck miscarriage justice she’s delivered it it’s even bigger miscarriage also judge say trump organization must install independent director compliance say independent monitor shall continue role say least three year shannon know case come former president one would say hush money stormy daniel case problematic term interpretation lot people study law do case none bank came forward none real estate investment company came forward said trump organization failed repay them claimed maralargo estate example worth 18 million preposterous anybody i’d love get that couldn’t get cottage neighborhood kind money it’s really shocking political appears going him let’s play letitia james comment running attorney general watch this one law including ill legitimate president look forward going office attorney general every day suing him defending right going home say one name donald trump motivate you sue u oh we’re going definitely sue him we’re going real pain bleep he’s going know name martha every time see that shocking behavior someone want attorney general yeah line nobody law folk say nobody either say nobody either cannot use law cujole go argument president make it’s prosecution they’re persecution bali rally every time noted continues note weren’t victim here weren’t people demanded justice attorney general new york even though we’re referring supreme court unusual language use new york it’s final court appeal court appeal state supreme court trump team feel like really strong measure appeal doubt they’re going take every penny appeal happens meantime lot put hold taking business license kind thing we’ll see appeal doubt that’s they’re going do martha ari valuate property purpose insurance purpose getting loan bank come language say assessment bank assessment much property valued none case involving trump organization party bring litigation trump organization false representation correct no exactly right nobody ever accused new york banker insurance people behind ball guy sharp know sharpen pencil put political category legal category it’s one reason norm broken country democrat go kind resort get somebody don’t like lose faith system it’s thing two impeachment violated rule house get man don’t want perverse result they’ll get man don’t want result donald trump leap frogged republican nomination wanted get rid trump wouldn’t prosecuted ron desantis may chance back january 2023 indictment led rallying base way people question justice fouryear pattern donald trump president it’s foolish thing democrat could unless want return power martha you’re right ignoring might produced different outcome think 91 indictment individual shannon looking civil case monetary price tag them criminal case here looked back oj simpson found libel death two people wife nicole brown friend 33 million death two human being one high profile case american history think that clearly victim case go back argument nobody complained ever got paid back regardless feel outcome president former president supporter argument it’s political look way especially clip played earlier something interesting know fox polling week talked folk new hampshire iowa everywhere said would move away president trump indicted convicted softening he’s convicted criminal charge new polling critical state new hampshire michigan week found biden supporter worried mental acutie trump supporter worried legal issue rally base him forced gop rival run defense every time indicted ari point out cleared field different way voter say majority won’t move them won’t waiver face verdict like this martha you’re right shannon there’s end indication negative impact anything positive impact see attack understand it’s like thumb government law one way rally decision were waiting content 92 page long surprise judge arthur angron found uh former president donald trump liable case civil case money criminality uh rewind little bit lot different case keep track case leticia james said running attorney general going get trump were going play said moment decision 92 page long james asked 370 million damage also want prevented business new york state wait download get look number soon get well tell exactly obviously something former president watching extremely closely layer judicial date appointment decision coming middle south carolina primary coming february 24th super tuesday interwoven former president trump want bring ari fer former white house press secretary fox news contributor shannon breen fox news sunday anchor chief legal correspondent uh shannon let start surprise obviously found liable judge found liable case began correct correct looking course jetted bottom see find conclusion several big number judge talk um finding donald trump donald trump jr eric trump alan weiselberg others involved um said already decided fraudulent way one first thing order um several together including donald trump trust trump organization uh pay 168 million change next paragraph go say there another ruling 126 million change um another one 60 million well look see overlapping add number coming go say um eric trump pay 4 million one case donald trump jr 4 million one case alan weiselberg million dollar there lot were going parse number big knew big ask look like may um neighborhood close 300 million yeah um shannon uh know seeing believe report were trying sort balance number um according reporting number 349 million say damage spread across number trump family member deeply involved business jr eric trump say 4 million perhaps equally importantly according early reporting were seeing judge banned donald trump others serving officer director new york corporation legal entity new york 3 year period whole lot impact president trump running president hope president time eric trump uh junior eric uh large way instrumental business would would prevent serving officer director new york corporation legal entity new york two year three 54 really 55 355 million judgment arthur angaran former president donald trump ari whats reaction know martha hard time seeing court case including one anything continuation resistance began donald trump elected president instantly protester took street fifth avenue donald trump look case one thing keep common theyre brought former president bluest blue county across united state america brought purple county let alone red county probably would chance success whether jury judge rendering verdict think continuation nastiness law turned serve political end leticia james pointed attorney general new york campaigned getting donald trump remember said im new yorker remember candidate vowed struck absolute miscarriage justice made promise delivered even bigger miss carriage um also judge say trump organization must install independent director compliance say independent monitor shall continue role say least three three year um shannon know case um come former president one would say hush money stormy daniel case know sort problematic term interpretation lot people study law case none bank came forward none real estate investment company came forward said trump organization failed repay claimed mar lago estate example believe eight worth 18 million preposterous anybody who looked know cottage palm beach get one um neighborhood know um really shocking political appears going let play leticia james comment running uh attorney general watch one law including illegitimate president look forward going office attorney general every day suing defending right going home say one name donald trump motivate sue u oh were going definitely sue were going real pain he going know name personally every time see shannon um pretty shocking behavior someone know want attorney general yeah line nobody law folk say nobody either cannot simply use law cudle go somebody way appears political lends credence argument president trump make prosecution persecution base going rally every time happens got remember noted continues note quote victim people came forward demanded justice attorney general new york even though were referring supreme court uh unusual language use new york final court appeal court appeal actually state supreme court trump team feel like many different count theyve got really strong measure appeal um doubt theyre going take every penny appeal uh happens meantime lot put hold taking business license kind thing well see appeal doubt thats theyre going yeah mean ari evaluate property purpose insurance purpose getting loan bank um come basically language say assessment bank step assessment much property valued none case involving trump organization party bring litigation trump organization fse false representation correct exactly right nobody ever accused new york banker insurance people behind ball mean guy pretty sharp know sharpen pencil put political category legal category one reason norm broken country democrat go kind resort get somebody like lose faith system know thing two impeachment violated rule house get man want perverse result theyre going get man want result prosecution donald trump leapfrogged republican nomination really wanted get rid trump prosecuted rona santis actually may chance back january 2023 indictment led rallying base made people question justice fouryear pattern donald trump president foolish thing democrat could unless want donald trump return power yeah right mean know ignoring might produced different outcome uh think 91 indictment individual shannon know looking civil case monetary um price tag said criminal case looked back oj simpson found civil liable death two people um wife nicole brown simpson friend property time 33 million death two human being one highprofile case american history yeah think well clearly victim case keep going back argument nobody complained everybody got paid back case regardless feel outcome president former president supporter argument political certainly look like way especially clip played earlier something interesting note new fox polling week road talked folk new hampshire iowa everywhere whove said would move away president trump indicted convicted softening he convicted criminal charge new polling critical state new hampshire michigan week found biden supporter worried mental acuity trump supporter worried legal issue rally base forced gop rival run defense every time indicted um ari point mean cleared field different way voter say majority trump supporter going move theyre going waver face verdict like absolutely right shannon there indication polling negative impact trump campaign anything positive impact see attack element life uh know many people feel like understand like thumb government law one way um rally support um fascinating political phenomenon watch im steve duy im brian kilme im angley aart click subscribe fox news youtube page catch hottest interview compelling analysis\n",
      "Fox News-Trump ordered to pay $364M, found liable in civil fraud trial\n",
      "[(0, '0.441*\"trump\" + 0.245*\"president\" + 0.245*\"case\" + 0.196*\"new\" + 0.186*\"donald\" + 0.181*\"million\" + 0.166*\"going\" + 0.162*\"say\" + 0.162*\"one\" + 0.132*\"york\"')]\n",
      "actually want get right kara scannell kara ruling donald trump civil fraud trial case yeah do boris got ruling 92 page long im scanning right now im looking number total judge ordering collectively case include defendant im getting total 362 million im scrolling now see there dollar amount specific donald trump im going use calculator rough math get u four donald trump 354 million thats him company trump organization close new york attorney general office seeking 370 million know there lot lot zero lot number roughly 354 million judgment donald trump judge also found son eric trump liable amount 4 million donald trump jr liable amount 4 million allen weisselberg former chief financial officer liable amount 1 million chance read language judge said here really money judge already found donald trump son allen weisselberg engaged fraud issuing fraudulent financial statement giving bank insurer order obtain favorable rate ruled trial go three month trial judge looking determine much ill gotten gain word disgorgement mean money benefited from judge issuing significant ruling 350 million donald trump trump organization sun im going see quickly search see judge said ban outstanding question here im able find quickly another issue were looking judge say whether he banning trump business son ruling question whether son would found liable judge said end trial closing argument asked attorney general team said sure sufficient evidence son ruling here indicating belief least receive improper profit asking disgorge result case know significant win new york attorney general letitia james investigating case ever since michael cohen testified congress made first allegation trump inflated value property get better loan rate loan insurance pay le tax justified finding judge again judge trial jury trial weve waiting judge arthur gaughan issue ruling it still continue read it team speak but know real significant win new york attorney general loss donald trump case go heart reputation reputation successful real estate businessman wrote white house judge finding that know fraud liability saying trump need pay back 350 million brianna yeah go much identity clearly one case one legal issue issue he facing bother attorney general new york argued marketplace harmed seeking recoup disgorgement ill gotten gain let go ahead bring paula reed chief legal correspondent talk seeing here understanding here paula really kind hot press ruling yes paper still warm were going right now kara were talking about case personal represents threat trump business family business identity remembers identity businessman brought fame arrived white house looking summary ruling see addition monetary penalty kara laid out found liable fraud going continue appointment independent monitor back 20 22 judge installed monitor keep eye exactly trump organization came business dealing now among thing monitor uncovered 48 million loan example company itself paperwork really find information one thing came up now trump lawyer insisted loan money themselves paperwork needed monitor found fraud now judge also order installation independent director compliance also want note saying here judge saying theyre going limit defendant right conduct business new york year now going take minute unpack exactly mean appear indefinite ban socalled corporate death penalty appear judge going put restriction trump trump organization ability business state new york let go back idea independent director compliance appears maybe executive level person ensure honest evaluating asset applying insurance loan bank because course judge found trump liable last fall trial started said liable fraud believe honest value asset trying get favorable term bank insurance company now trump defense subjective evaluation ultimately victim want note come barring anyone business state new york socalled corporate death penalty something rarely handed state new york especially obvious victim were going keep reading learn limit theyre going put ability conduct business new york next year paula well let get it please stand by couple important voice development were mere reality u norm eisen well doug heye looking political angle this first you norm reaction filing judge anger news paula trump organization face corporate death penalty though limit ability business new york boris another devastating blow former president yesterday criminal case new york state allegation fraud end 2016 election form paying hush money get civil fraud ruling almost full amount requested 360 million donald trump business associated person entity significant sanction donald trump others including son continuing business donald trump cannot serve officer director new york company three year cannot take loan three year part penalty however one bright lining donald trump judge roll back prior determination removing certificate get business socalled corporate death penalty would shut company down gotten appellate pushback course reviewed appeal want bring renato sort technical question paula jump two you know understand judge ordered trump pay nearly 355 million civil fraud trial illegal gain disgorgement called happens obviously he appealing know kind bond posted process securing money even appeal process continues thats typically case state post bond pending appeal that know often something post certain amount capital post entire amount order obtain bond know would expect example bond thats posted but course meantime he going comply condition judge already imposed thats going limit ability continue make money run business mean practical matter business nimble independent compliance director monitor going also would say hamper ability nimble act way ordinarily might want business think significant impact short run regardless financial situation see way despite trump often spinning thing win see lawyer straight face could tell client great result devastating result trump business\n",
      "CNN-Judge orders Trump to pay $355 million in civil fraud trial\n",
      "[(0, '0.427*\"trump\" + 0.324*\"judge\" + 0.236*\"business\" + 0.177*\"going\" + 0.177*\"york\" + 0.177*\"million\" + 0.177*\"donald\" + 0.177*\"new\" + 0.133*\"case\" + 0.133*\"ruling\"')]\n"
     ]
    }
   ],
   "source": [
    "import os\n",
    "\n",
    "for file in os.listdir(data_directory):\n",
    "    if file.endswith(\".json\"):\n",
    "        transcript = get_transcripts(data_directory + file)\n",
    "        transcript = preprocess(transcript)\n",
    "        print(transcript)\n",
    "        lsi, lda = topic_modeling(transcript)\n",
    "        video_id = file.split('.')[0]\n",
    "        print(video_id)\n",
    "        print(lsi.print_topics())"
   ],
   "metadata": {
    "collapsed": false,
    "ExecuteTime": {
     "end_time": "2024-04-08T04:00:23.662645Z",
     "start_time": "2024-04-08T04:00:22.717339Z"
    }
   },
   "id": "a4b198b63aad296c",
   "execution_count": 150
  },
  {
   "cell_type": "code",
   "outputs": [
    {
     "name": "stdout",
     "output_type": "stream",
     "text": [
      "Topics for File: CNN-Judge orders Trump to pay $355 million in civil fraud trial_gemini_2_cluster_positive.csv Cluster: 0\n",
      "[(0, '-0.562*\"karma\" + -0.275*\"existence\" + -0.275*\"fate\" + -0.141*\"person\" + -0.138*\"hinduism\"')]\n",
      "Topics for File: CNN-Judge orders Trump to pay $355 million in civil fraud trial_gemini_2_cluster_positive.csv Cluster: 1\n",
      "[(0, '-0.430*\"world\" + -0.410*\"light\" + -0.356*\"god\" + -0.248*\"come\" + -0.246*\"son\"')]\n",
      "Topics for File: Fox News-Trump ordered to pay $364M, found liable in civil fraud trial_gemini_clustered.csv Cluster: 0\n",
      "[(0, '0.587*\"trump\" + 0.492*\"judge\" + 0.239*\"people\" + 0.165*\"many\" + 0.158*\"court\"')]\n",
      "Topics for File: Fox News-Trump ordered to pay $364M, found liable in civil fraud trial_gemini_clustered.csv Cluster: 1\n",
      "[(0, '0.860*\"trump\" + 0.216*\"president\" + 0.149*\"people\" + 0.115*\"2024\" + 0.091*\"get\"')]\n",
      "Topics for File: Fox News-Trump ordered to pay $364M, found liable in civil fraud trial_gemini_clustered.csv Cluster: 2\n",
      "[(0, '0.831*\"trump\" + 0.215*\"million\" + 0.185*\"people\" + 0.166*\"money\" + 0.142*\"rich\"')]\n",
      "Topics for File: CNN-Judge orders Trump to pay $355 million in civil fraud trial_gemini_3_cluster_negative.csv Cluster: 0\n",
      "[(0, '0.509*\"security\" + 0.481*\"national\" + 0.315*\"fraud\" + 0.240*\"impacting\" + 0.198*\"critical\"')]\n",
      "Topics for File: CNN-Judge orders Trump to pay $355 million in civil fraud trial_gemini_3_cluster_negative.csv Cluster: 1\n",
      "[(0, '0.466*\"ukrainian\" + 0.254*\"ukraine\" + 0.235*\"trump\" + 0.223*\"putin\" + 0.212*\"solder\"')]\n",
      "Topics for File: CNN-Judge orders Trump to pay $355 million in civil fraud trial_gemini_3_cluster_negative.csv Cluster: 2\n",
      "[(0, '0.530*\"judge\" + 0.491*\"trump\" + 0.149*\"within\" + 0.149*\"russian\" + 0.147*\"fraud\"')]\n",
      "Topics for File: CNN-Judge orders Trump to pay $355 million in civil fraud trial_vader_clustered.csv Cluster: 0\n",
      "[(0, '0.623*\"trump\" + 0.208*\"judge\" + 0.197*\"new\" + 0.195*\"york\" + 0.182*\"fraud\"')]\n",
      "Topics for File: CNN-Judge orders Trump to pay $355 million in civil fraud trial_vader_clustered.csv Cluster: 1\n",
      "[(0, '0.508*\"security\" + 0.480*\"national\" + 0.319*\"fraud\" + 0.239*\"impacting\" + 0.197*\"critical\"')]\n",
      "Topics for File: CNN-Judge orders Trump to pay $355 million in civil fraud trial_vader_clustered.csv Cluster: 2\n",
      "[(0, '0.551*\"trump\" + 0.237*\"ukrainian\" + 0.208*\"u\" + 0.194*\"people\" + 0.157*\"putin\"')]\n",
      "Topics for File: CNN-Judge orders Trump to pay $355 million in civil fraud trial_gemini_3_cluster_positive.csv Cluster: 0\n",
      "[(0, '-0.637*\"trump\" + -0.350*\"president\" + -0.157*\"stand\" + -0.140*\"win\" + -0.137*\"next\"')]\n",
      "Topics for File: CNN-Judge orders Trump to pay $355 million in civil fraud trial_gemini_3_cluster_positive.csv Cluster: 1\n",
      "[(0, '-0.217*\"beautiful\" + -0.182*\"time\" + -0.176*\"man\" + -0.174*\"people\" + -0.169*\"height\"')]\n",
      "Topics for File: CNN-Judge orders Trump to pay $355 million in civil fraud trial_gemini_3_cluster_positive.csv Cluster: 2\n",
      "[(0, '0.419*\"light\" + 0.419*\"world\" + 0.340*\"god\" + 0.253*\"come\" + 0.251*\"son\"')]\n",
      "Topics for File: CNN-Judge orders Trump to pay $355 million in civil fraud trial_gemini_2_cluster_negative.csv Cluster: 0\n",
      "[(0, '0.582*\"trump\" + 0.440*\"judge\" + 0.188*\"bank\" + 0.173*\"fraud\" + 0.128*\"new\"')]\n",
      "Topics for File: CNN-Judge orders Trump to pay $355 million in civil fraud trial_gemini_2_cluster_negative.csv Cluster: 1\n",
      "[(0, '0.510*\"security\" + 0.481*\"national\" + 0.313*\"fraud\" + 0.241*\"impacting\" + 0.198*\"potentially\"')]\n",
      "Topics for File: Fox News-Trump ordered to pay $364M, found liable in civil fraud trial_vader_clustered.csv Cluster: 0\n",
      "[(0, '0.994*\"ha\" + 0.030*\"winning\" + 0.030*\"really\" + 0.030*\"tired\" + 0.026*\"lol\"')]\n",
      "Topics for File: Fox News-Trump ordered to pay $364M, found liable in civil fraud trial_vader_clustered.csv Cluster: 1\n",
      "[(0, '0.580*\"trump\" + 0.503*\"judge\" + 0.231*\"people\" + 0.162*\"court\" + 0.156*\"many\"')]\n",
      "Topics for File: Fox News-Trump ordered to pay $364M, found liable in civil fraud trial_vader_clustered.csv Cluster: 2\n",
      "[(0, '0.838*\"trump\" + 0.183*\"people\" + 0.174*\"president\" + 0.124*\"biden\" + 0.109*\"smith\"')]\n",
      "Topics for File: Fox News-Trump ordered to pay $364M, found liable in civil fraud trial_gemini_3_cluster_negative.csv Cluster: 0\n",
      "[(0, '0.664*\"judge\" + 0.394*\"trump\" + 0.197*\"corrupt\" + 0.167*\"man\" + 0.156*\"system\"')]\n",
      "Topics for File: Fox News-Trump ordered to pay $364M, found liable in civil fraud trial_gemini_3_cluster_negative.csv Cluster: 1\n",
      "[(0, '0.865*\"trump\" + 0.182*\"people\" + 0.115*\"money\" + 0.109*\"pay\" + 0.080*\"criminal\"')]\n",
      "Topics for File: Fox News-Trump ordered to pay $364M, found liable in civil fraud trial_gemini_3_cluster_negative.csv Cluster: 2\n",
      "[(0, '0.980*\"bock\" + 0.109*\"bakaaaaaawk\" + 0.056*\"fox\" + 0.056*\"witch\" + 0.055*\"hunt\"')]\n",
      "Topics for File: Fox News-Trump ordered to pay $364M, found liable in civil fraud trial_textblob_clustered.csv Cluster: 0\n",
      "[(0, '0.866*\"trump\" + 0.127*\"people\" + 0.118*\"president\" + 0.105*\"get\" + 0.100*\"money\"')]\n",
      "Topics for File: Fox News-Trump ordered to pay $364M, found liable in civil fraud trial_textblob_clustered.csv Cluster: 1\n",
      "[(0, '0.461*\"trump\" + 0.436*\"judge\" + 0.392*\"people\" + 0.335*\"many\" + 0.254*\"honest\"')]\n",
      "Topics for File: Fox News-Trump ordered to pay $364M, found liable in civil fraud trial_textblob_clustered.csv Cluster: 2\n",
      "[(0, '0.375*\"bill\" + 0.333*\"100\" + 0.308*\"pay\" + 0.249*\"love\" + 0.231*\"million\"')]\n",
      "Topics for File: Fox News-Trump ordered to pay $364M, found liable in civil fraud trial_gemini_2_cluster_positive.csv Cluster: 0\n",
      "[(0, '0.787*\"trump\" + 0.427*\"president\" + 0.127*\"god\" + 0.112*\"back\" + 0.112*\"2024\"')]\n",
      "Topics for File: Fox News-Trump ordered to pay $364M, found liable in civil fraud trial_gemini_2_cluster_positive.csv Cluster: 1\n",
      "[(0, '0.975*\"ha\" + 0.063*\"love\" + 0.060*\"oh\" + 0.059*\"watching\" + 0.059*\"donald\"')]\n",
      "Topics for File: CNN-Judge orders Trump to pay $355 million in civil fraud trial_textblob_clustered.csv Cluster: 0\n",
      "[(0, '0.393*\"u\" + 0.341*\"god\" + 0.294*\"thing\" + 0.291*\"shall\" + 0.194*\"jesus\"')]\n",
      "Topics for File: CNN-Judge orders Trump to pay $355 million in civil fraud trial_textblob_clustered.csv Cluster: 1\n",
      "[(0, '0.779*\"trump\" + 0.220*\"million\" + 0.194*\"pay\" + 0.141*\"money\" + 0.132*\"people\"')]\n",
      "Topics for File: CNN-Judge orders Trump to pay $355 million in civil fraud trial_textblob_clustered.csv Cluster: 2\n",
      "[(0, '0.621*\"judge\" + 0.499*\"trump\" + 0.130*\"like\" + 0.127*\"bank\" + 0.122*\"get\"')]\n",
      "Topics for File: CNN-Judge orders Trump to pay $355 million in civil fraud trial_gemini_clustered.csv Cluster: 0\n",
      "[(0, '-0.509*\"security\" + -0.480*\"national\" + -0.316*\"fraud\" + -0.240*\"impacting\" + -0.198*\"critical\"')]\n",
      "Topics for File: CNN-Judge orders Trump to pay $355 million in civil fraud trial_gemini_clustered.csv Cluster: 1\n",
      "[(0, '0.629*\"trump\" + 0.199*\"people\" + 0.177*\"time\" + 0.144*\"day\" + 0.144*\"president\"')]\n",
      "Topics for File: CNN-Judge orders Trump to pay $355 million in civil fraud trial_gemini_clustered.csv Cluster: 2\n",
      "[(0, '0.611*\"trump\" + 0.213*\"judge\" + 0.200*\"new\" + 0.197*\"york\" + 0.178*\"million\"')]\n",
      "Topics for File: Fox News-Trump ordered to pay $364M, found liable in civil fraud trial_gemini_2_cluster_negative.csv Cluster: 0\n",
      "[(0, '0.860*\"trump\" + 0.188*\"people\" + 0.140*\"money\" + 0.124*\"pay\" + 0.090*\"need\"')]\n",
      "Topics for File: Fox News-Trump ordered to pay $364M, found liable in civil fraud trial_gemini_2_cluster_negative.csv Cluster: 1\n",
      "[(0, '0.580*\"judge\" + 0.507*\"trump\" + 0.162*\"corrupt\" + 0.150*\"man\" + 0.139*\"system\"')]\n",
      "Topics for File: Fox News-Trump ordered to pay $364M, found liable in civil fraud trial_gemini_3_cluster_positive.csv Cluster: 0\n",
      "[(0, '0.974*\"ha\" + 0.065*\"love\" + 0.062*\"donald\" + 0.060*\"mind\" + 0.060*\"losing\"')]\n",
      "Topics for File: Fox News-Trump ordered to pay $364M, found liable in civil fraud trial_gemini_3_cluster_positive.csv Cluster: 1\n",
      "[(0, '0.465*\"love\" + 0.441*\"justice\" + 0.237*\"million\" + 0.191*\"good\" + 0.154*\"news\"')]\n",
      "Topics for File: Fox News-Trump ordered to pay $364M, found liable in civil fraud trial_gemini_3_cluster_positive.csv Cluster: 2\n",
      "[(0, '-0.998*\"appeal\" + -0.028*\"god\" + -0.028*\"process\" + -0.028*\"thank\" + -0.028*\"trump2024\"')]\n"
     ]
    }
   ],
   "source": [
    "from gensim.models import LsiModel\n",
    "import pandas as pd\n",
    "\n",
    "def get_comments_corpus(file, cluster):\n",
    "    df = pd.read_csv(file)\n",
    "    comments_corpus = []\n",
    "    for index, row in df.iterrows():\n",
    "        if row['cluster'] == cluster:\n",
    "            comments_corpus.append(preprocess(row['comment']).split())  # Preprocess the comment and append to corpus\n",
    "    return comments_corpus\n",
    "\n",
    "cluster_directory = \"../sentiment_data/sentiment_cluster/\"\n",
    "for file in os.listdir(cluster_directory):\n",
    "    # if file.endswith(\"positive.csv\") or file.endswith(\"negative.csv\"):\n",
    "    df = pd.read_csv(cluster_directory + file)\n",
    "    for cluster in df['cluster'].unique():\n",
    "        comments_corpus = get_comments_corpus(cluster_directory + file, cluster)\n",
    "        \n",
    "        # Create dictionary and corpus\n",
    "        dictionary = corpora.Dictionary(comments_corpus)\n",
    "        corpus = [dictionary.doc2bow(comment) for comment in comments_corpus]\n",
    "        \n",
    "        # Train LSI model\n",
    "        lsi = LsiModel(corpus, id2word=dictionary, num_topics=1)  # Adjust num_topics as needed\n",
    "        \n",
    "        # Print topics for each cluster\n",
    "        print(\"Topics for File:\", file, \"Cluster:\", cluster)\n",
    "        print(lsi.print_topics(num_words=5))\n",
    "        "
   ],
   "metadata": {
    "collapsed": false,
    "ExecuteTime": {
     "end_time": "2024-04-08T04:06:03.796272Z",
     "start_time": "2024-04-08T04:05:50.214404Z"
    }
   },
   "id": "8efe9097a4bc5e8c",
   "execution_count": 155
  },
  {
   "cell_type": "code",
   "outputs": [],
   "source": [],
   "metadata": {
    "collapsed": false,
    "ExecuteTime": {
     "end_time": "2024-04-08T04:00:26.569264Z",
     "start_time": "2024-04-08T04:00:26.564648Z"
    }
   },
   "id": "d2d5f16b3a9efeb",
   "execution_count": 151
  }
 ],
 "metadata": {
  "kernelspec": {
   "display_name": "Python 3",
   "language": "python",
   "name": "python3"
  },
  "language_info": {
   "codemirror_mode": {
    "name": "ipython",
    "version": 2
   },
   "file_extension": ".py",
   "mimetype": "text/x-python",
   "name": "python",
   "nbconvert_exporter": "python",
   "pygments_lexer": "ipython2",
   "version": "2.7.6"
  }
 },
 "nbformat": 4,
 "nbformat_minor": 5
}
