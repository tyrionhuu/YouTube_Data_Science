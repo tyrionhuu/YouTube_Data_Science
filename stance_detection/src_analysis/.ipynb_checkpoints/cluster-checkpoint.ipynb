{
 "cells": [
  {
   "cell_type": "code",
   "execution_count": 13,
   "id": "initial_id",
   "metadata": {
    "collapsed": true,
    "ExecuteTime": {
     "end_time": "2024-03-12T04:00:51.929944Z",
     "start_time": "2024-03-12T04:00:51.923648Z"
    }
   },
   "outputs": [],
   "source": [
    "from sentence_transformers import SentenceTransformer\n",
    "import json\n",
    "import pandas as pd\n",
    "from sklearn.mixture import GaussianMixture as GMM\n",
    "import os\n",
    "\n",
    "os.environ['TOKENIZERS_PARALLELISM'] = 'false'"
   ]
  },
  {
   "cell_type": "code",
   "outputs": [],
   "source": [
    "with open('../data/cleaned_comments.json') as comments_file:\n",
    "    comments = json.load(comments_file)"
   ],
   "metadata": {
    "collapsed": false,
    "ExecuteTime": {
     "end_time": "2024-03-12T04:00:51.938976Z",
     "start_time": "2024-03-12T04:00:51.933829Z"
    }
   },
   "id": "cda8920535211f0f",
   "execution_count": 14
  },
  {
   "cell_type": "code",
   "outputs": [],
   "source": [
    "# convert comments into a dataframe\n",
    "df = pd.DataFrame({'text': comments})"
   ],
   "metadata": {
    "collapsed": false,
    "ExecuteTime": {
     "end_time": "2024-03-12T04:00:51.944600Z",
     "start_time": "2024-03-12T04:00:51.940286Z"
    }
   },
   "id": "74da84abc480a4f6",
   "execution_count": 15
  },
  {
   "cell_type": "code",
   "outputs": [],
   "source": [
    "# Downloads the transformer to your device. After the first time running will load it from device\n",
    "model = SentenceTransformer('all-MiniLM-L6-v2')"
   ],
   "metadata": {
    "collapsed": false,
    "ExecuteTime": {
     "end_time": "2024-03-12T04:00:58.123451Z",
     "start_time": "2024-03-12T04:00:51.945760Z"
    }
   },
   "id": "21116605524c7e88",
   "execution_count": 16
  },
  {
   "cell_type": "code",
   "outputs": [],
   "source": [
    "# convert text into embeddings\n",
    "embeddings = df['text'].map(lambda x: model.encode(x))"
   ],
   "metadata": {
    "collapsed": false,
    "ExecuteTime": {
     "end_time": "2024-03-12T04:01:36.213114Z",
     "start_time": "2024-03-12T04:00:58.124998Z"
    }
   },
   "id": "c98c01506a280806",
   "execution_count": 17
  },
  {
   "cell_type": "code",
   "outputs": [],
   "source": [
    "# converts embeddings into a dataframe\n",
    "embeddings = embeddings.to_frame()\n",
    "embeddings = embeddings['text'].apply(pd.Series)"
   ],
   "metadata": {
    "collapsed": false,
    "ExecuteTime": {
     "end_time": "2024-03-12T04:01:36.392957Z",
     "start_time": "2024-03-12T04:01:36.215121Z"
    }
   },
   "id": "3a0486db3c6e114c",
   "execution_count": 18
  },
  {
   "cell_type": "code",
   "outputs": [],
   "source": [
    "embeddings_df = pd.DataFrame(embeddings)"
   ],
   "metadata": {
    "collapsed": false,
    "ExecuteTime": {
     "end_time": "2024-03-12T04:01:36.397066Z",
     "start_time": "2024-03-12T04:01:36.393789Z"
    }
   },
   "id": "ae726779e957e467",
   "execution_count": 19
  },
  {
   "cell_type": "code",
   "outputs": [],
   "source": [
    "# fit the GMM model\n",
    "gmm = GMM(n_components=10, covariance_type='diag', max_iter=2000, random_state=0).fit(embeddings_df)\n",
    "# Predict the labels for the data samples\n",
    "labels = gmm.predict(embeddings_df)"
   ],
   "metadata": {
    "collapsed": false,
    "ExecuteTime": {
     "end_time": "2024-03-12T04:01:37.897797Z",
     "start_time": "2024-03-12T04:01:36.397851Z"
    }
   },
   "id": "54b52fd0c7d551fb",
   "execution_count": 20
  },
  {
   "cell_type": "code",
   "outputs": [],
   "source": [
    "# Save data frame with labels\n",
    "df['label'] = labels\n",
    "df.to_csv('../data/clustered_comments.csv', index=False)"
   ],
   "metadata": {
    "collapsed": false,
    "ExecuteTime": {
     "end_time": "2024-03-12T04:01:37.965145Z",
     "start_time": "2024-03-12T04:01:37.929526Z"
    }
   },
   "id": "35163a382986a53a",
   "execution_count": 21
  },
  {
   "cell_type": "code",
   "outputs": [
    {
     "data": {
      "text/plain": "                                                   text  label\n0     i normally dont stay places long but i will tr...      2\n1     i really need help the police force every wher...      2\n2     crooked judge just wants trump to pay for the ...      0\n3     this fool senile judge will look cute in his o...      7\n4     where are the victims they are willing to dest...      9\n...                                                 ...    ...\n3896  thats why trump wants laura trump to have a pl...      1\n3897     please donate to a homeless bone spurs veteran      6\n3898  such bs and 1 sided ruling none of this will s...      2\n3899               horrid week for republicans lovin it      3\n3900                                          hell yeah      2\n\n[3901 rows x 2 columns]",
      "text/html": "<div>\n<style scoped>\n    .dataframe tbody tr th:only-of-type {\n        vertical-align: middle;\n    }\n\n    .dataframe tbody tr th {\n        vertical-align: top;\n    }\n\n    .dataframe thead th {\n        text-align: right;\n    }\n</style>\n<table border=\"1\" class=\"dataframe\">\n  <thead>\n    <tr style=\"text-align: right;\">\n      <th></th>\n      <th>text</th>\n      <th>label</th>\n    </tr>\n  </thead>\n  <tbody>\n    <tr>\n      <th>0</th>\n      <td>i normally dont stay places long but i will tr...</td>\n      <td>2</td>\n    </tr>\n    <tr>\n      <th>1</th>\n      <td>i really need help the police force every wher...</td>\n      <td>2</td>\n    </tr>\n    <tr>\n      <th>2</th>\n      <td>crooked judge just wants trump to pay for the ...</td>\n      <td>0</td>\n    </tr>\n    <tr>\n      <th>3</th>\n      <td>this fool senile judge will look cute in his o...</td>\n      <td>7</td>\n    </tr>\n    <tr>\n      <th>4</th>\n      <td>where are the victims they are willing to dest...</td>\n      <td>9</td>\n    </tr>\n    <tr>\n      <th>...</th>\n      <td>...</td>\n      <td>...</td>\n    </tr>\n    <tr>\n      <th>3896</th>\n      <td>thats why trump wants laura trump to have a pl...</td>\n      <td>1</td>\n    </tr>\n    <tr>\n      <th>3897</th>\n      <td>please donate to a homeless bone spurs veteran</td>\n      <td>6</td>\n    </tr>\n    <tr>\n      <th>3898</th>\n      <td>such bs and 1 sided ruling none of this will s...</td>\n      <td>2</td>\n    </tr>\n    <tr>\n      <th>3899</th>\n      <td>horrid week for republicans lovin it</td>\n      <td>3</td>\n    </tr>\n    <tr>\n      <th>3900</th>\n      <td>hell yeah</td>\n      <td>2</td>\n    </tr>\n  </tbody>\n</table>\n<p>3901 rows × 2 columns</p>\n</div>"
     },
     "execution_count": 22,
     "metadata": {},
     "output_type": "execute_result"
    }
   ],
   "source": [
    "# Show data frame with labels\n",
    "df"
   ],
   "metadata": {
    "collapsed": false,
    "ExecuteTime": {
     "end_time": "2024-03-12T04:01:38.022684Z",
     "start_time": "2024-03-12T04:01:37.986289Z"
    }
   },
   "id": "10c7d29d5e932ed5",
   "execution_count": 22
  },
  {
   "cell_type": "code",
   "outputs": [],
   "source": [],
   "metadata": {
    "collapsed": false,
    "ExecuteTime": {
     "end_time": "2024-03-12T04:01:38.063188Z",
     "start_time": "2024-03-12T04:01:38.045118Z"
    }
   },
   "id": "878641baa5d9ea73",
   "execution_count": 22
  }
 ],
 "metadata": {
  "kernelspec": {
   "display_name": "Python 3",
   "language": "python",
   "name": "python3"
  },
  "language_info": {
   "codemirror_mode": {
    "name": "ipython",
    "version": 2
   },
   "file_extension": ".py",
   "mimetype": "text/x-python",
   "name": "python",
   "nbconvert_exporter": "python",
   "pygments_lexer": "ipython2",
   "version": "2.7.6"
  }
 },
 "nbformat": 4,
 "nbformat_minor": 5
}
