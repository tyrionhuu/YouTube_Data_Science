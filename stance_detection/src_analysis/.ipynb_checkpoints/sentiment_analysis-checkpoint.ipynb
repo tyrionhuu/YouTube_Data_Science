{
 "cells": [
  {
   "cell_type": "code",
   "execution_count": 1,
   "id": "initial_id",
   "metadata": {
    "collapsed": true,
    "ExecuteTime": {
     "end_time": "2024-04-07T01:14:29.183266Z",
     "start_time": "2024-04-07T01:14:27.407264Z"
    }
   },
   "outputs": [],
   "source": [
    "# import sentimental analysis library\n",
    "from nltk.sentiment.vader import SentimentIntensityAnalyzer\n",
    "from textblob import TextBlob\n",
    "import pandas as pd\n",
    "import matplotlib.pyplot as plt"
   ]
  },
  {
   "cell_type": "code",
   "outputs": [],
   "source": [
    "import os\n",
    "\n",
    "import google.generativeai as genai\n",
    "import warnings\n",
    "warnings.filterwarnings(\"ignore\")\n",
    "\n",
    "GOOGLE_API_KEY=os.getenv('GOOGLE_API_KEY')\n",
    "\n",
    "genai.configure(api_key=GOOGLE_API_KEY)\n",
    "\n",
    "from google.api_core import exceptions\n",
    "from google.generativeai.types import HarmCategory, HarmBlockThreshold"
   ],
   "metadata": {
    "collapsed": false,
    "is_executing": true,
    "ExecuteTime": {
     "start_time": "2024-04-07T01:14:29.184877Z"
    }
   },
   "id": "884caa0bdf4c56a5",
   "execution_count": null
  },
  {
   "cell_type": "code",
   "outputs": [],
   "source": [
    "def analyze_sentiment_gemini(text):\n",
    "    model = genai.GenerativeModel('gemini-pro')\n",
    "    message = \"Analyze the following video comment and determine the sentiment score of a given text. Return answer in a single float ranging anywhere from -1 to 1, where -1 is negative sentiment, 0 is neutral sentiment, and 1 is positive sentiment: \" + text\n",
    "    try:\n",
    "        response = model.generate_content(message, safety_settings={\n",
    "            HarmCategory.HARM_CATEGORY_HATE_SPEECH: HarmBlockThreshold.BLOCK_NONE,\n",
    "            HarmCategory.HARM_CATEGORY_HARASSMENT: HarmBlockThreshold.BLOCK_NONE,\n",
    "            HarmCategory.HARM_CATEGORY_SEXUALLY_EXPLICIT: HarmBlockThreshold.BLOCK_NONE\n",
    "            }\n",
    "        )\n",
    "    except AttributeError as e:\n",
    "        model = genai.GenerativeModel('gemini-pro')\n",
    "        return 0\n",
    "    except Exception as e:\n",
    "        model = genai.GenerativeModel('gemini-pro')\n",
    "        return 0\n"
   ],
   "metadata": {
    "collapsed": false,
    "is_executing": true
   },
   "id": "a474fb154ee920c4",
   "execution_count": null
  },
  {
   "cell_type": "code",
   "outputs": [],
   "source": [
    "def analyze_sentiment_vader(text):\n",
    "    # create a SentimentIntensityAnalyzer object\n",
    "    sid_obj = SentimentIntensityAnalyzer()\n",
    "    # polarity_scores method of SentimentIntensityAnalyzer\n",
    "    # object gives a sentiment dictionary.\n",
    "    # which contains pos, neg, neu, and compound scores.\n",
    "    sentiment_dict = sid_obj.polarity_scores(text)\n",
    "    return sentiment_dict['compound']"
   ],
   "metadata": {
    "collapsed": false,
    "is_executing": true
   },
   "id": "814b904148715167",
   "execution_count": null
  },
  {
   "cell_type": "code",
   "outputs": [],
   "source": [
    "def analyze_sentiment_textblob(text):\n",
    "    # create a TextBlob object\n",
    "    analysis = TextBlob(text)\n",
    "    # return the sentiment\n",
    "    return analysis.sentiment.polarity"
   ],
   "metadata": {
    "collapsed": false,
    "is_executing": true
   },
   "id": "41c31477e0c3e4f3",
   "execution_count": null
  },
  {
   "cell_type": "code",
   "outputs": [],
   "source": [
    "def analyze_sentiment(text):\n",
    "    sentiment_gemini = analyze_sentiment_gemini(text)\n",
    "    sentiment_vader = analyze_sentiment_vader(text)\n",
    "    sentiment_textblob = analyze_sentiment_textblob(text)\n",
    "    return sentiment_gemini, sentiment_vader, sentiment_textblob\n",
    "    # return sentiment_vader, sentiment_textblob"
   ],
   "metadata": {
    "collapsed": false,
    "is_executing": true
   },
   "id": "1f2fc5952bb52473",
   "execution_count": null
  },
  {
   "cell_type": "code",
   "outputs": [],
   "source": [
    "data_directory = '../preprocessed_data/'\n",
    "output_directory = '../sentiment_data/sentiment_score/'\n",
    "# Load the json files from the data directory\n",
    "files = os.listdir(data_directory)\n",
    "csv_files = [f for f in files if f.endswith('-cleaned.csv')]\n",
    "csv_files"
   ],
   "metadata": {
    "collapsed": false,
    "is_executing": true
   },
   "id": "fcffb860d10a0d76",
   "execution_count": null
  },
  {
   "cell_type": "code",
   "outputs": [],
   "source": [
    "# Load the json files into a pandas dataframe\n",
    "for file in csv_files:\n",
    "    with open(data_directory + file) as f:\n",
    "        df = pd.read_csv(f)\n",
    "    if not os.path.exists(output_directory):\n",
    "        os.makedirs(output_directory)\n",
    "    # draw a histogram of the sentiment scores\n",
    "    df['sentiment_gemini'] = df['comment'].apply(analyze_sentiment_gemini)\n",
    "    df['sentiment_vader'] = df['comment'].apply(analyze_sentiment_vader)\n",
    "    df['sentiment_textblob'] = df['comment'].apply(analyze_sentiment_textblob)\n",
    "    \n",
    "    # save the dataframe to a csv file\n",
    "    df.to_csv(output_directory + file.split('.')[0] + '_sentiment_score.csv', index=False)\n",
    "    video_title = file.split('.')[0].removesuffix('-cleaned')\n",
    "    # draw a histogram of the sentiment scores\n",
    "    plt.hist(df['sentiment_gemini'], bins=20, alpha=0.5, label='gemini', color='green')\n",
    "    plt.hist(df['sentiment_vader'], bins=20, alpha=0.5, label='vader', color='blue')\n",
    "    plt.hist(df['sentiment_textblob'], bins=20, alpha=0.5, label='textblob', color='red')\n",
    "    plt.legend(loc='upper right')\n",
    "    plt.title('Histogram of Sentiment Scores\\n' + video_title)\n",
    "    plt.xlabel('Sentiment Score')\n",
    "    plt.ylabel('Frequency')\n",
    "    plt.savefig(output_directory + file.split('.')[0] + '_sentiment.png')\n",
    "    plt.show()"
   ],
   "metadata": {
    "collapsed": false,
    "is_executing": true
   },
   "id": "a7b668e387707309",
   "execution_count": null
  },
  {
   "cell_type": "code",
   "outputs": [],
   "source": [
    "# get the data outside [-0.2, 0.2]\n",
    "sentiment_data_path = '../sentiment_data/sentiment_score/'\n",
    "files = os.listdir(sentiment_data_path)\n",
    "csv_files = [f for f in files if f.endswith('.csv')]\n",
    "csv_files"
   ],
   "metadata": {
    "collapsed": false,
    "is_executing": true
   },
   "id": "da563a8a189be72",
   "execution_count": null
  },
  {
   "cell_type": "code",
   "outputs": [],
   "source": [
    "for file in csv_files:\n",
    "    with open(sentiment_data_path + file) as f:\n",
    "        df = pd.read_csv(f)\n",
    "        \n",
    "    df1 = df[(df['sentiment_vader'] < -0.2) | (df['sentiment_vader'] > 0.2)]\n",
    "    df1.to_csv(sentiment_data_path + file.split('.')[0] + '_vader_filtered.csv', index=False)\n",
    "    df2 = df[(df['sentiment_textblob'] < -0.2) | (df['sentiment_textblob'] > 0.2)]\n",
    "    df2.to_csv(sentiment_data_path + file.split('.')[0] + '_textblob_filtered.csv', index=False)\n",
    "    df3 = df[(df['sentiment_gemini'] < -0.2) | (df['sentiment_gemini'] > 0.2)]\n",
    "    df3.to_csv(sentiment_data_path + file.split('.')[0] + '_gemini_filtered.csv', index=False)\n",
    "    \n",
    "    # sort the data by sentiment score\n",
    "    df1 = df1.sort_values(by='sentiment_vader', ascending=False)\n",
    "    df2 = df2.sort_values(by='sentiment_textblob', ascending=False)\n",
    "    df3 = df3.sort_values(by='sentiment_gemini', ascending=False)\n",
    "    \n",
    "    # write the filtered data to a csv file and save it\n",
    "    df1.to_csv(sentiment_data_path + file.split('.')[0] + '_vader_filtered.csv', index=False)\n",
    "    df2.to_csv(sentiment_data_path + file.split('.')[0] + '_textblob_filtered.csv', index=False)\n",
    "    df3.to_csv(sentiment_data_path + file.split('.')[0] + '_gemini_filtered.csv', index=False)"
   ],
   "metadata": {
    "collapsed": false,
    "is_executing": true
   },
   "id": "261bdca11e3ec963",
   "execution_count": null
  },
  {
   "cell_type": "code",
   "outputs": [],
   "source": [
    "# cluster the data\n",
    "from sentence_transformers import SentenceTransformer\n",
    "import json\n",
    "import pandas as pd\n",
    "from sklearn.mixture import GaussianMixture as GMM\n",
    "import os\n",
    "\n",
    "os.environ['TOKENIZERS_PARALLELISM'] = 'false'\n",
    "sentiment_data_path = '../sentiment_data/'\n",
    "files = os.listdir(sentiment_data_path)\n",
    "csv_files = [f for f in files if f.endswith('filtered.csv')]"
   ],
   "metadata": {
    "collapsed": false,
    "is_executing": true
   },
   "id": "85ba5ac5becff6b6",
   "execution_count": null
  },
  {
   "cell_type": "code",
   "outputs": [],
   "source": [
    "for file in csv_files:\n",
    "    with open(sentiment_data_path + file) as f:\n",
    "        df = pd.read_csv(f)\n",
    "        \n",
    "    # get the comments  \n",
    "    comments = df['comment']    \n",
    "    # load the pre-trained model\n",
    "    model = SentenceTransformer('all-MiniLM-L6-v2')\n",
    "    # encode the comments\n",
    "    embeddings = df['comment'].map(lambda x: model.encode(x))\n",
    "    \n",
    "    # converts embeddings into a dataframe\n",
    "    embeddings = embeddings.to_frame()\n",
    "    embeddings = embeddings['comment'].apply(pd.Series)\n",
    "    \n",
    "    # fit the Gaussian Mixture Model\n",
    "    gmm = GMM(n_components=3).fit(embeddings)\n",
    "    # predict the cluster\n",
    "    labels = gmm.predict(embeddings)\n",
    "    # add the cluster to the dataframe\n",
    "    df['cluster'] = labels\n",
    "    # save the dataframe to a csv file\n",
    "    df.to_csv(sentiment_data_path + file.split('.')[0] + '_clustered.csv', index=False)"
   ],
   "metadata": {
    "collapsed": false,
    "is_executing": true
   },
   "id": "5d6f99723cf0a9f2",
   "execution_count": null
  },
  {
   "cell_type": "code",
   "outputs": [],
   "source": [
    "files = os.listdir(sentiment_data_path)\n",
    "clustered_file = [f for f in files if f.endswith('_clustered.csv')]\n",
    "# sort the data by cluster\n",
    "for file in clustered_file:\n",
    "    with open(sentiment_data_path + file) as f:\n",
    "        df = pd.read_csv(f)\n",
    "    if 'vader' in file:\n",
    "        if 'sentiment_textblob' in df.keys():\n",
    "            df = df.drop(columns=['sentiment_textblob'])\n",
    "        if 'sentiment_gemini' in df.keys():\n",
    "            df = df.drop(columns=['sentiment_gemini'])\n",
    "        df = df.sort_values(by=['cluster', 'sentiment_vader'], ascending=[True, False])\n",
    "    elif 'textblob' in file:\n",
    "        if 'sentiment_vader' in df.keys():\n",
    "            df = df.drop(columns=['sentiment_vader'])\n",
    "        if 'sentiment_gemini' in df.keys():\n",
    "            df = df.drop(columns=['sentiment_gemini'])\n",
    "        df = df.sort_values(by=['cluster', 'sentiment_textblob'], ascending=[True, False])\n",
    "    else:\n",
    "        # pass\n",
    "        if 'sentiment_vader' in df.keys():\n",
    "            df = df.drop(columns=['sentiment_vader'])\n",
    "        if 'sentiment_textblob' in df.keys():\n",
    "            df = df.drop(columns=['sentiment_textblob'])\n",
    "        df = df.sort_values(by=['cluster', 'sentiment_gemini'], ascending=[True, False])\n",
    "    df.to_csv(sentiment_data_path + file, index=False)"
   ],
   "metadata": {
    "collapsed": false,
    "is_executing": true
   },
   "id": "211dbdc82ba55055",
   "execution_count": null
  },
  {
   "cell_type": "code",
   "outputs": [],
   "source": [
    "# cluster the data\n",
    "from sentence_transformers import SentenceTransformer\n",
    "import json\n",
    "import pandas as pd\n",
    "from sklearn.mixture import GaussianMixture as GMM\n",
    "import os\n",
    "\n",
    "with open(\"../sentiment_data/Fox News-Trump ordered to pay $364M, found liable in civil fraud trial-cleaned_sentiment_gemini_filtered.csv\") as f:\n",
    "    df = pd.read_csv(f)\n",
    "    # get the positive comments\n",
    "    positive_comments = df[df['sentiment_gemini'] > 0.7]\n",
    "    # get the negative comments\n",
    "    negative_comments = df[df['sentiment_gemini'] < -0.7]\n",
    "    # load the pre-trained model\n",
    "    model = SentenceTransformer('all-MiniLM-L6-v2')\n",
    "    # encode the comments\n",
    "    positive_embeddings = positive_comments['comment'].map(lambda x: model.encode(x))\n",
    "    negative_embeddings = negative_comments['comment'].map(lambda x: model.encode(x))\n",
    "    # converts embeddings into a dataframe\n",
    "    positive_embeddings = positive_embeddings.to_frame()\n",
    "    positive_embeddings = positive_embeddings['comment'].apply(pd.Series)\n",
    "    negative_embeddings = negative_embeddings.to_frame()\n",
    "    negative_embeddings = negative_embeddings['comment'].apply(pd.Series)\n",
    "    # fit the Gaussian Mixture Model\n",
    "    gmm_positive = GMM(n_components=4).fit(positive_embeddings)\n",
    "    gmm_negative = GMM(n_components=10).fit(negative_embeddings)\n",
    "    # predict the cluster\n",
    "    positive_labels = gmm_positive.predict(positive_embeddings)\n",
    "    negative_labels = gmm_negative.predict(negative_embeddings)\n",
    "    \n",
    "    # save the cluster to the dataframe\n",
    "    positive_comments['cluster'] = positive_labels\n",
    "    negative_comments['cluster'] = negative_labels\n",
    "    # save the dataframe to a csv file\n",
    "    positive_comments.to_csv(\"../sentiment_data/Fox News-Trump ordered to pay $364M, found liable in civil fraud trial-cleaned_sentiment_gemini_filtered_positive_clustered.csv\", index=False)\n",
    "    negative_comments.to_csv(\"../sentiment_data/Fox News-Trump ordered to pay $364M, found liable in civil fraud trial-cleaned_sentiment_gemini_filtered_negative_clustered.csv\", index=False)\n"
   ],
   "metadata": {
    "collapsed": false,
    "is_executing": true
   },
   "id": "8e278bd72a8297e7",
   "execution_count": null
  },
  {
   "cell_type": "code",
   "outputs": [],
   "source": [
    "# sort the data by cluster\n",
    "with open(\"../sentiment_data/Fox News-Trump ordered to pay $364M, found liable in civil fraud trial-cleaned_sentiment_gemini_filtered_positive_clustered.csv\") as f:\n",
    "    df = pd.read_csv(f)\n",
    "    df = df.sort_values(by=['cluster', 'sentiment_gemini'], ascending=[True, False])\n",
    "    df.to_csv(\"../sentiment_data/Fox News-Trump ordered to pay $364M, found liable in civil fraud trial-cleaned_sentiment_gemini_filtered_positive_clustered.csv\", index=False)\n",
    "    \n",
    "with open(\"../sentiment_data/Fox News-Trump ordered to pay $364M, found liable in civil fraud trial-cleaned_sentiment_gemini_filtered_negative_clustered.csv\") as f:\n",
    "    df = pd.read_csv(f)\n",
    "    df = df.sort_values(by=['cluster', 'sentiment_gemini'], ascending=[True, False])\n",
    "    df.to_csv(\"../sentiment_data/Fox News-Trump ordered to pay $364M, found liable in civil fraud trial-cleaned_sentiment_gemini_filtered_negative_clustered.csv\", index=False)"
   ],
   "metadata": {
    "collapsed": false,
    "is_executing": true
   },
   "id": "7b99a498ba0e62c7",
   "execution_count": null
  },
  {
   "cell_type": "code",
   "outputs": [],
   "source": [
    "# Use TF-IDF Measurement to decide the best cluster number\n",
    "from sklearn.feature_extraction.text import TfidfVectorizer\n"
   ],
   "metadata": {
    "collapsed": false,
    "is_executing": true
   },
   "id": "a31b7bc5e37dc288",
   "execution_count": null
  },
  {
   "cell_type": "code",
   "outputs": [],
   "source": [
    "files = os.listdir(sentiment_data_path)\n",
    "clustered_file = [f for f in files if f.endswith('gemini_filtered_positive_clustered.csv')]"
   ],
   "metadata": {
    "collapsed": false,
    "is_executing": true
   },
   "id": "41087d581b636aed",
   "execution_count": null
  },
  {
   "cell_type": "code",
   "outputs": [],
   "source": [
    " "
   ],
   "metadata": {
    "collapsed": false,
    "is_executing": true
   },
   "id": "e802d5935f464fd3"
  }
 ],
 "metadata": {
  "kernelspec": {
   "display_name": "Python 3",
   "language": "python",
   "name": "python3"
  },
  "language_info": {
   "codemirror_mode": {
    "name": "ipython",
    "version": 2
   },
   "file_extension": ".py",
   "mimetype": "text/x-python",
   "name": "python",
   "nbconvert_exporter": "python",
   "pygments_lexer": "ipython2",
   "version": "2.7.6"
  }
 },
 "nbformat": 4,
 "nbformat_minor": 5
}
