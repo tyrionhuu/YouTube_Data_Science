{
 "cells": [
  {
   "cell_type": "code",
   "execution_count": 2,
   "id": "initial_id",
   "metadata": {
    "collapsed": true,
    "ExecuteTime": {
     "end_time": "2024-04-08T07:03:11.056519Z",
     "start_time": "2024-04-08T07:03:11.050960Z"
    }
   },
   "outputs": [
    {
     "data": {
      "text/plain": "['CNN-Judge orders Trump to pay $355 million in civil fraud trial_gemini.csv',\n 'Fox News-Trump ordered to pay $364M, found liable in civil fraud trial_gemini.csv']"
     },
     "execution_count": 2,
     "metadata": {},
     "output_type": "execute_result"
    }
   ],
   "source": [
    "import os\n",
    "\n",
    "sentiment_directory = '../clustered_data/sentiment_scores/'\n",
    "sentiment_files = [f for f in os.listdir(sentiment_directory) if f.endswith('gemini.csv')]\n",
    "sentiment_files"
   ]
  },
  {
   "cell_type": "code",
   "outputs": [
    {
     "data": {
      "text/plain": "('Judge', 'AGAINST')"
     },
     "execution_count": 57,
     "metadata": {},
     "output_type": "execute_result"
    }
   ],
   "source": [
    "import os\n",
    "\n",
    "import google.generativeai as genai\n",
    "import warnings\n",
    "warnings.filterwarnings(\"ignore\")\n",
    "\n",
    "GOOGLE_API_KEY=os.getenv('GOOGLE_API_KEY')\n",
    "\n",
    "genai.configure(api_key=GOOGLE_API_KEY)\n",
    "\n",
    "from google.generativeai.types import HarmCategory, HarmBlockThreshold\n",
    "\n",
    "def target_detection(text, video_title):\n",
    "    model = genai.GenerativeModel('gemini-pro')\n",
    "    message = \"The following text is a comment on the political news video titled: \" + video_title + \". Identify the political target of the comment within the given political context and return ONLY the target: \" + text\n",
    "    try:\n",
    "        response = model.generate_content(message, safety_settings={\n",
    "            HarmCategory.HARM_CATEGORY_HATE_SPEECH: HarmBlockThreshold.BLOCK_NONE,\n",
    "            HarmCategory.HARM_CATEGORY_HARASSMENT: HarmBlockThreshold.BLOCK_NONE,\n",
    "            HarmCategory.HARM_CATEGORY_SEXUALLY_EXPLICIT: HarmBlockThreshold.BLOCK_NONE\n",
    "            }\n",
    "        )\n",
    "        target = response.text\n",
    "        return target\n",
    "    except AttributeError as e:\n",
    "        model = genai.GenerativeModel('gemini-pro')\n",
    "        return None, None\n",
    "    except Exception as e:\n",
    "        model = genai.GenerativeModel('gemini-pro')\n",
    "        return None, None\n",
    "    \n",
    "def stance_detection(text, video_title, target):\n",
    "    model = genai.GenerativeModel('gemini-pro')\n",
    "    message = \"The following text is a comment on the political news video titled: \" + video_title + \". Identify the stance of the comment towards the target within the given political context and ONLY return the stance (AGAINST, PRO): \" + text\n",
    "    try:\n",
    "        response = model.generate_content(message, safety_settings={\n",
    "            HarmCategory.HARM_CATEGORY_HATE_SPEECH: HarmBlockThreshold.BLOCK_NONE,\n",
    "            HarmCategory.HARM_CATEGORY_HARASSMENT: HarmBlockThreshold.BLOCK_NONE,\n",
    "            HarmCategory.HARM_CATEGORY_SEXUALLY_EXPLICIT: HarmBlockThreshold.BLOCK_NONE\n",
    "            }\n",
    "        )\n",
    "        stance = response.text\n",
    "        return stance\n",
    "    except AttributeError as e:\n",
    "        model = genai.GenerativeModel('gemini-pro')\n",
    "        return None, None\n",
    "    except Exception as e:\n",
    "        model = genai.GenerativeModel('gemini-pro')\n",
    "        return None, None\n",
    "    \n",
    "def target_stance_detection(text, video_title):\n",
    "    target = target_detection(text, video_title)\n",
    "    stance = stance_detection(text, video_title, target)\n",
    "    return target, stance\n",
    "    \n",
    "target_stance_detection(\"This verdict VIOLATES THE 8th amendment of the constitution of the United States. Shame on any judge that would knowingly violate their oath of office to support the constitution.This judge should be disbarred \\nIf they do this to him they can do it to you\", \"Judge orders Trump to pay $355 million in civil fraud trial\")"
   ],
   "metadata": {
    "collapsed": false,
    "ExecuteTime": {
     "end_time": "2024-04-11T02:49:24.003611Z",
     "start_time": "2024-04-11T02:49:21.323482Z"
    }
   },
   "id": "6a8a01c498c4dd0c",
   "execution_count": 57
  },
  {
   "cell_type": "code",
   "outputs": [],
   "source": [
    "import pandas as pd\n",
    "import os\n",
    "\n",
    "def save_stance(sentiment_file_path, file_name, output_path):\n",
    "    with open(sentiment_file_path + file_name, 'r') as f:\n",
    "        df = pd.read_csv(f)\n",
    "        video_title = file_name.split('.')[0].removesuffix('_gemini')\n",
    "        df['target'] = None\n",
    "        df['stance'] = None\n",
    "        df.drop(columns=['sentiment_textblob', 'sentiment_vader'], inplace=True)\n",
    "        for i, row in df.iterrows():\n",
    "            target = target_detection(row['comment'], video_title)\n",
    "            stance = stance_detection(row['comment'], video_title, target)\n",
    "            df.at[i, 'target'] = target\n",
    "            df.at[i, 'stance'] = stance\n",
    "        df.to_csv(output_path, index=False)\n",
    "        \n",
    "        # Choose  10 comments to test\n",
    "        # sample = df[100:110]\n",
    "        # sample.drop(columns=['sentiment_textblob'], inplace=True)\n",
    "        # for i, row in sample.iterrows():\n",
    "        #     print(sample)\n",
    "        #     target, stance = target_stance_detection(row['comment'], video_title)\n",
    "        #     sample.at[i, 'target'] = target\n",
    "        #     sample.at[i, 'stance'] = stance\n",
    "        # sample.to_csv(output_path, index=False)"
   ],
   "metadata": {
    "collapsed": false,
    "ExecuteTime": {
     "end_time": "2024-04-11T02:50:12.451493Z",
     "start_time": "2024-04-11T02:50:12.443041Z"
    }
   },
   "id": "5a7f0ef5b5c8859c",
   "execution_count": 60
  },
  {
   "cell_type": "code",
   "outputs": [],
   "source": [
    "sentiment_directory = '../clustered_data/sentiment_scores/'\n",
    "# output_directory = '../test_output/stance_detection/'\n",
    "output_directory = '../stance_data/'\n",
    "if not os.path.exists(output_directory):\n",
    "    os.makedirs(output_directory)\n",
    "# log_time = pd.Timestamp.now().strftime('%Y-%m-%d %H:%M:%S')\n",
    "# sentiment_files = [f for f in os.listdir(sentiment_directory) if f.endswith('_gemini.csv')]\n",
    "# for f in sentiment_files:\n",
    "#     save_stance(sentiment_directory, f, output_directory + f.split('.')[0].removesuffix('_gemini') + f'_{log_time}.csv')\n",
    "sentiment_files = [f for f in os.listdir(sentiment_directory) if f.endswith('gemini.csv')]\n",
    "for f in sentiment_files:\n",
    "    save_stance(sentiment_directory, f, output_directory + f.split('.')[0].removesuffix('_gemini'))"
   ],
   "metadata": {
    "collapsed": false,
    "ExecuteTime": {
     "end_time": "2024-04-11T04:34:32.052465Z",
     "start_time": "2024-04-11T02:50:49.009068Z"
    }
   },
   "id": "e6eee5df112f6f6",
   "execution_count": 61
  },
  {
   "cell_type": "code",
   "outputs": [],
   "source": [],
   "metadata": {
    "collapsed": false
   },
   "id": "cc537652785c04c"
  }
 ],
 "metadata": {
  "kernelspec": {
   "display_name": "Python 3",
   "language": "python",
   "name": "python3"
  },
  "language_info": {
   "codemirror_mode": {
    "name": "ipython",
    "version": 2
   },
   "file_extension": ".py",
   "mimetype": "text/x-python",
   "name": "python",
   "nbconvert_exporter": "python",
   "pygments_lexer": "ipython2",
   "version": "2.7.6"
  }
 },
 "nbformat": 4,
 "nbformat_minor": 5
}
