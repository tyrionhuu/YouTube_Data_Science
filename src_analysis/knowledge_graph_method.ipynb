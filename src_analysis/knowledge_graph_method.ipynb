{
 "cells": [
  {
   "cell_type": "code",
   "execution_count": 1,
   "id": "initial_id",
   "metadata": {
    "collapsed": true,
    "ExecuteTime": {
     "end_time": "2024-04-11T06:39:46.492198Z",
     "start_time": "2024-04-11T06:39:46.483592Z"
    }
   },
   "outputs": [],
   "source": [
    "import json\n",
    "\n",
    "def get_transcript(file_path):\n",
    "    with open(file_path, 'r') as file:\n",
    "        df = json.load(file)\n",
    "    transcript = df[\"video_transcript\"]\n",
    "    return transcript"
   ]
  },
  {
   "cell_type": "code",
   "outputs": [],
   "source": [
    "import re\n",
    "\n",
    "def clean_transcript(transcript):\n",
    "    # Remove new line characters\n",
    "    transcript = re.sub('\\n', ' ', transcript)\n",
    "    # Remove multiple spaces\n",
    "    transcript = re.sub(' +', ' ', transcript)\n",
    "    # Remove leading and trailing spaces\n",
    "    transcript = transcript.strip()\n",
    "    # Convert to lowercase\n",
    "    transcript = transcript.lower()\n",
    "    return transcript"
   ],
   "metadata": {
    "collapsed": false,
    "ExecuteTime": {
     "end_time": "2024-04-11T06:39:46.496448Z",
     "start_time": "2024-04-11T06:39:46.493580Z"
    }
   },
   "id": "47037d480bf41a17",
   "execution_count": 2
  },
  {
   "cell_type": "code",
   "outputs": [
    {
     "name": "stdout",
     "output_type": "stream",
     "text": [
      "does find the president libel. we'll see what that means. >> martha: thanks, eric. we do have this decision. we're waiting for the content of it. it's 92 pages long. it's no price that judge engoron has found the former president, donald trump, libel in this case. this is a civil case. there is about money, not criminality. just to rewind a little bit here. there's a lot of different cases to keep track on. in this case, letitia james said when she was running for attorney general that she was going to get trump. we'll play what she said. the decision is in. it's 92 pages long. james asked for $370 million in damages. she wants him to be prevented from doing business in new york state. so as we wait to download all of this and get a look at the number and as soon as we get it, we'll tell you what it is. this is something that the former president is watching closely. he has layers of judicial dates, appointments, decisions coming down in the middle of the south carolina primary, which is coming up february 24 and super tuesday. so all of this interwoven for former president trump. i want to bring in ari fleischer, the former white house press secretary and fox news contributor and shannon breen, our chief legal correspondent. shannon, let's start with you. no surprise obviously that he was found libel. the judge found him libel before the case began. correct? >> correct. i jetted to the bottom to see what we could find. there's several big numbers in there. the judge talks about in this finding donald trump, donald trump jr. and eric trump and alan weisselberg and others involved. one of the first things he orders is that several of them together including donald trump and his trust and trump organization will have to pay $168 million and change. the next paragraph says that there's another ruling for $126 million and change. another one for $60 million. we'll have to look and see if they're overlapping or if we add them up. these are the numbers coming out. donald trump jr., $4 million in one case and allen wiseleburg a million dollars. so there's a lot of numbers there. we'll parse through the numbers. they're big. there was a big ask. looks like they may be in the neighborhood of close to $300 million or more. >> martha: we're seeing this. i believe this is a reuter's report. we're starting to balance up the numbers here. according to some of the reporting out there, the number is $354.9 million. as you say, the damages are spread across a number of the trump family members that are deeply involved in the business. don jr., eric trump, $4 million. perhaps equally importantly, according to the early reporting that we're seeing here, the judge has banned donald trump from serving as an officer or director of any new york corporation or other legal entity in new york for three years is the period here on this. now, that wouldn't have a lot of impact on president trump. he's running for president and hopes to be president during that time. eric trump and don jr. and eric in a large way are very instrumental in business here. it would prevent them from serving as an officer or director of any new york corporation or other legal entity in new york for two years. so $355 million here in the judgment from arthur engoron against the former president, donald trump. ari, what is your reaction to this? >> martha, i just have a hard time seeing any of the court cases including this one as anything other than a continuation of the resistance that began when donald trump was elected president and instantly protesters took to the streets of fifth avenue. look at all of these cases. they're being brought against the former president in the bluest of blue counties across the united states of america. because if they were brought in a purple county let alone a red county, they would have no chance of success whether it was a jury or a judge. i think this is a continuation of the nastiness that law has turned into to serve the political ends as letitia james, the attorney general of new york, campaigned on getting donald trump. i remember when she said that. i'm a new yorker. i remember when she was a candidate and she vowed to do that. it struck me as a miscarriage of justice then and now that she's delivered on it, it's an even bigger miscarriage. >> this also -- the judge says that the trump organization must install an independent director of compliance and says the independent monitor shall continue in her role, it says, for at least three years. shannon, you know, of all the cases that have come against the former president, this one i would say and the hush money, stormy daniels case, was problematic in terms of the interpretation of a lot of people that study the law as you do. in this case, none of the banks came forward. none of these real estate investment companies came forward and said that the trump organization failed to repay them. they claimed that mar-a-largo estate, for example, was worth $18 million, which is preposterous for anybody that -- >> i'd love to get in on that. >> you couldn't get a cottage in that neighborhood for that kind of money. so it's really shocking how political this appears to be in going after him. let's play those letitia james comments when she was running to be the attorney general. watch this. >> no one is above the law including this ill legitimate president. i look forward to going into the office of attorney general every day suing him, defending your rights and going home. >> i say one name, donald trump. that should motivate you. >> will you sue him for us? >> oh, we're going to definitely sue him. we're going to be a real pain in the [bleep]. he's going to know my name. >> martha: every time i see that, shocking behavior from someone that wants to be an attorney general. >> yeah. the line she has about nobody is above the law, his folks will say nobody is below it either. you cannot use the law as a cujole. this goes to the argument the president makes. it's not just a prosecution. they're persecutions and his bali rally to that every time. as you noted there and as he continues to note, there weren't victims here. there weren't people that demanded justice from the attorney general. in new york even though we're referring to this as the supreme court, they have unusual language that they use in new york. it's not the final court of appeals. their court of appeals is above their state supreme court. the trump team feels like that they have a really strong measure on appeal. no doubt that they're going to take every penny of this to appeal. so what happens in the meantime? a lot has been put on hold taking the business licenses and those kinds of things. we'll see how they do on appeal. no doubt that's what they're going to do. >> martha: ari, when you valuate your own properties for the purpose of insurance or the purpose of getting a loan from a bank, it comes with language that says this is our assessment and the banks do their assessments on how much the property is valued. in none of those cases involving the trump organization did any of these parties bring any litigation against the trump organization for any false representation. correct? >> no, that is exactly right. nobody has ever accused any of these new york bankers or insurance people of being behind the ball. these guys are sharp. they know how to sharpen their pencils. all of this is why i put this in the political category, not a legal category. it's one of the reasons the norms have broken down in this country. when the democrats go to these kinds of resorts to get somebody they don't like, we all lose faith in the system. it's the same thing as two impeachments that violated the rules of the house. all to get the man they don't want. the perverse result of it is they'll get the man they don't want. as a result, donald trump leap frogged in the republican nomination. if they wanted to get rid of trump, they wouldn't have prosecuted him and ron desantis may have had a chance back in january of 2023. these indictments led to the rallying of the base because of the way people question justice, which has been a four-year pattern when donald trump was president. it's the most foolish thing the democrats could do unless they want him to return to power. >> martha: you're so right. ignoring this might have produced a different outcome. you think about 91 indictments against this individual. shannon, looking at other civil cases which have a monetary price tag on them. this is not a criminal case here. i looked back. o.j. simpson was found libel in the deaths of two people, his wife and nicole brown and her friend. $33 million. in the deaths of two human beings in one of the most high profile cases in american history. what do you think about that? >> they were clearly victims in that case, which goes back to the argument that nobody complained. ever got paid back. so regardless of how you feel about the outcome, when the president, former president and his supporters have this argument that it's political, it looks that way, especially with the clips you played earlier. something interesting to know. we had out now fox polling this week. you and i have talked to folks in new hampshire and iowa and everywhere in between that said they would not move away from president trump if he was indicted or convicted. there is some softening there if he's convicted on a criminal charge. this new polling there we have out of critical states, new hampshire and michigan this week, found that more biden supporters are worried about his mental acutie than trump supporters are worried about his legal issues. this will rally most of the base to him. it forced all of his gop rivals to run to his defense every time he was indicted. as ari points out, it cleared the field in a different way. voters say for the majority, it won't move them. they won't waiver in the face of verdicts like this. >> martha: you're right, shannon. there's no end -- indication this has a negative impact, if anything, it has a positive impact. when they see him under attack, they understand what it's like to be under the thumb of the government or of the law in one way or the other and t does find the president libel. we’ll see what that means. >> martha: thanks, eric. we do have this decision. we’re waiting for the content of it. it’s 92 pages long. it’s no price that judge engoron has found the former president, donald trump, libel in this case. this is a civil case. there is about money, not criminality. just to rewind a little bit here. there’s a lot of different cases to keep track on. in this case, letitia james said when she was running for attorney general that she was going to get trump. we’ll play what she said. the decision is in. it’s 92 pages long. james asked for $370 million in damages. she wants him to be prevented from doing business in new york state. so as we wait to download all of this and get a look at the number and as soon as we get it, we’ll tell you what it is. this is something that the former president is watching closely. he has layers of judicial dates, appointments, decisions coming down in the middle of the south carolina primary, which is coming up february 24 and super tuesday. so all of this interwoven for former president trump. i want to bring in ari fleischer, the former white house press secretary and fox news contributor and shannon breen, our chief legal correspondent. shannon, let’s start with you. no surprise obviously that he was found libel. the judge found him libel before the case began. correct? >> correct. i jetted to the bottom to see what we could find. there’s several big numbers in there. the judge talks about in this finding donald trump, donald trump jr. and eric trump and alan weisselberg and others involved. one of the first things he orders is that several of them together including donald trump and his trust and trump organization will have to pay $168 million and change. the next paragraph says that there’s another ruling for $126 million and change. another one for $60 million. we’ll have to look and see if they’re overlapping or if we add them up. these are the numbers coming out. donald trump jr., $4 million in one case and allen wiseleburg a million dollars. so there’s a lot of numbers there. we’ll parse through the numbers. they’re big. there was a big ask. looks like they may be in the neighborhood of close to $300 million or more. >> martha: we’re seeing this. i believe this is a reuter’s report. we’re starting to balance up the numbers here. according to some of the reporting out there, the number is $354.9 million. as you say, the damages are spread across a number of the trump family members that are deeply involved in the business. don jr., eric trump, $4 million. perhaps equally importantly, according to the early reporting that we’re seeing here, the judge has banned donald trump from serving as an officer or director of any new york corporation or other legal entity in new york for three years is the period here on this. now, that wouldn’t have a lot of impact on president trump. he’s running for president and hopes to be president during that time. eric trump and don jr. and eric in a large way are very instrumental in business here. it would prevent them from serving as an officer or director of any new york corporation or other legal entity in new york for two years. so $355 million here in the judgment from arthur engoron against the former president, donald trump. ari, what is your reaction to this? >> martha, i just have a hard time seeing any of the court cases including this one as anything other than a continuation of the resistance that began when donald trump was elected president and instantly protesters took to the streets of fifth avenue. look at all of these cases. they’re being brought against the former president in the bluest of blue counties across the united states of america. because if they were brought in a purple county let alone a red county, they would have no chance of success whether it was a jury or a judge. i think this is a continuation of the nastiness that law has turned into to serve the political ends as letitia james, the attorney general of new york, campaigned on getting donald trump. i remember when she said that. i’m a new yorker. i remember when she was a candidate and she vowed to do that. it struck me as a miscarriage of justice then and now that she’s delivered on it, it’s an even bigger miscarriage. >> this also -- the judge says that the trump organization must install an independent director of compliance and says the independent monitor shall continue in her role, it says, for at least three years. shannon, you know, of all the cases that have come against the former president, this one i would say and the hush money, stormy daniels case, was problematic in terms of the interpretation of a lot of people that study the law as you do. in this case, none of the banks came forward. none of these real estate investment companies came forward and said that the trump organization failed to repay them. they claimed that mar-a-largo estate, for example, was worth $18 million, which is preposterous for anybody that -- >> i’d love to get in on that. >> you couldn’t get a cottage in that neighborhood for that kind of money. so it’s really shocking how political this appears to be in going after him. let’s play those letitia james comments when she was running to be the attorney general. watch this. >> no one is above the law including this ill legitimate president. i look forward to going into the office of attorney general every day suing him, defending your rights and going home. >> i say one name, donald trump. that should motivate you. >> will you sue him for us? >> oh, we’re going to definitely sue him. we’re going to be a real pain in the [bleep]. he’s going to know my name. >> martha: every time i see that, shocking behavior from someone that wants to be an attorney general. >> yeah. the line she has about nobody is above the law, his folks will say nobody is below it either. say nobody is below it either. you cannot use the law as a cujole. this goes to the argument the president makes. it’s not just a prosecution. they’re persecutions and his bali rally to that every time. as you noted there and as he continues to note, there weren’t victims here. there weren’t people that demanded justice from the attorney general. in new york even though we’re referring to this as the supreme court, they have unusual language that they use in new york. it’s not the final court of appeals. their court of appeals is above their state supreme court. the trump team feels like that they have a really strong measure on appeal. no doubt that they’re going to take every penny of this to appeal. so what happens in the meantime? a lot has been put on hold taking the business licenses and those kinds of things. we’ll see how they do on appeal. no doubt that’s what they’re going to do. >> martha: ari, when you valuate your own properties for the purpose of insurance or the purpose of getting a loan from a bank, it comes with language that says this is our assessment and the banks do their assessments on how much the property is valued. in none of those cases involving the trump organization did any of these parties bring any litigation against the trump organization for any false representation. correct? >> no, that is exactly right. nobody has ever accused any of these new york bankers or insurance people of being behind the ball. these guys are sharp. they know how to sharpen their pencils. all of this is why i put this in the political category, not a legal category. it’s one of the reasons the norms have broken down in this country. when the democrats go to these kinds of resorts to get somebody they don’t like, we all lose faith in the system. it’s the same thing as two impeachments that violated the rules of the house. all to get the man they don’t want. the perverse result of it is they’ll get the man they don’t want. as a result, donald trump leap frogged in the republican nomination. if they wanted to get rid of trump, they wouldn’t have prosecuted him and ron desantis may have had a chance back in january of 2023. these indictments led to the rallying of the base because of the way people question justice, which has been a four-year pattern when donald trump was president. it’s the most foolish thing the democrats could do unless they want him to return to power. >> martha: you’re so right. ignoring this might have produced a different outcome. you think about 91 indictments against this individual. shannon, looking at other civil cases which have a monetary price tag on them. this is not a criminal case here. i looked back. o.j. simpson was found libel in the deaths of two people, his wife and nicole brown and her friend. $33 million. in the deaths of two human beings in one of the most high profile cases in american history. what do you think about that? >> they were clearly victims in that case, which goes back to the argument that nobody complained. ever got paid back. so regardless of how you feel about the outcome, when the president, former president and his supporters have this argument that it’s political, it looks that way, especially with the clips you played earlier. something interesting to know. we had out now fox polling this week. you and i have talked to folks in new hampshire and iowa and everywhere in between that said they would not move away from president trump if he was indicted or convicted. there is some softening there if he’s convicted on a criminal charge. this new polling there we have out of critical states, new hampshire and michigan this week, found that more biden supporters are worried about his mental acutie than trump supporters are worried about his legal issues. this will rally most of the base to him. it forced all of his gop rivals to run to his defense every time he was indicted. as ari points out, it cleared the field in a different way. voters say for the majority, it won’t move them. they won’t waiver in the face of verdicts like this. >> martha: you’re right, shannon. there’s no end -- indication this has a negative impact, if anything, it has a positive impact. when they see him under attack, they understand what it’s like to be under the thumb of the government or of the law in one way or the other and they rally we do have this decision we're waiting for the content of it it's 92 pages long it's no surprise that judge arthur angron has found uh the former president donald trump liable in this case this is a civil case so this is about money not about criminality just to uh rewind a little bit here because there are a lot of different cases to keep track on but in this case leticia james said when she was running for attorney general that she was going to get trump and we're going to play some of what she said in a moment here but the decision is in it's 92 pages long james asked for $370 million in damages she also wants him to be prevented from doing business in new york state so as we wait to download all of this and get a look at the number and as soon as we get it we'll tell you exactly what it is obviously this is something that the former president is watching extremely closely he has layers of judicial dates appointments decisions coming down all in the middle of the south carolina primary which is coming up on february the 24th and and super tuesday so all of this interwoven for former president trump i want to bring in ari fer former white house press secretary and fox news contributor and shannon breen fox news sunday anchor and our chief legal correspondent uh shannon let me start with you so no surprise obviously that that he was found liable because the judge found him liable before this case began correct correct and we are now looking at this of course i i jetted to the bottom to see what we can find in the conclusion and there are several big numbers in there the judge talks about in this um finding donald trump donald trump jr eric trump alan weiselberg and others involved in this um as you said had already decided that they had been fraudulent in some way one of the first things he orders is um that several of them together including donald trump and his trust in trump organization will be uh have to pay $168 million and change the next paragraph goes on to say that there's another ruling for $126 million in change um another one for $60 million now we'll have to look and see if any of those are overlapping or if we add these up but these are some of the numbers coming out goes on to say that um eric trump has to pay $4 million in one case donald trump jr $4 million in one of these cases and alan weiselberg a million dollars so there's a lot there we're going to parse through these numbers but they are big we knew there was a big ask it looks like they may be um in the neighborhood of close to $300 million or more yeah um shannon uh you know we are seeing this i believe this is a report we're all trying to sort of balance up these numbers here um but according to some of the reporting out there the number is 34.9 million and as you say the damages are spread across a number of the trump family members who are deeply involved in the business don jr eric trump as you say $4 million now perhaps equally importantly according to the early reporting that we're seeing here the judge has banned donald trump and others from serving as an officer or director of any new york corporation or other legal entity in new york for 3 years is the period here on this now that wouldn't have a whole lot of impact on on president trump because he is running for president hopes to be president during that time but eric trump uh and don junior and and eric uh in in a large way are very instrumental in the business here and it would it would prevent them from serving as an officer or director of any new york corporation or other legal entity in new york for two years so three 54 m really 55 $355 million here in the judgment from arthur angaran against the former president donald trump ari what's your reaction to all this you know martha i just have such a hard time seeing any of the court cases including this one is anything other than a continuation of the resistance that began when donald trump was elected president and instantly protesters took to the streets of fifth avenue against donald trump to me when you look at all these cases the one thing they keep having in common is they're being brought against the former president in the bluest of blue counties across the united states of america because if they were brought in a purple county let alone a red county they probably would have no chance of success whether it was a jury or a judge rendering a verdict and so i i just think this is a continuation of the nastiness that law has turned into to serve the political ends as leticia james as you pointed out the attorney general of new york campaigned on getting donald trump and i remember when she said that i'm a new yorker i remember when she was a candidate and she vowed to do that and it struck me as an absolute miscarriage of justice then when she made the promise and now that she's delivered on it it's even bigger miss carriage um this also the judge says that the trump organization must install an independent director of compliance and says it's independent monitor shall continue in her role it says for at least three three years um shannon you know of all the cases um that that have come against the former president this one i would say and the hush money stormy daniels case you know sort of was problematic in terms of the interpretation of a lot of people who study the law as you do now in this case none of the banks came forward none of these real estate investment companies came forward and said that the trump organization failed to repay them they they they claimed that the mar lago estate for example was i believe eight worth $18 million which is preposterous for anybody who's looked for you know a cottage in palm beach you couldn't get one of those um in in that neighborhood so you know it's um it's really shocking how political this appears to be in going after him let's play those leticia james comments when she was running for uh to to be the attorney general watch this no one is above the law including this illegitimate president i look forward to going into the office of attorney general every day suing him defending your rights and then going home i say one name donald trump that should motivate you will you will you sue him for us oh we're going to definitely sue him we're going to be a real pain in the he's going to know my name personally every time i see that shannon um it's pretty shocking behavior from someone who you know wants to be a attorney general yeah and and the line she has there about nobody is above the law his folks will say nobody's below it either you cannot simply use the law as a cudle and go after somebody in a way that appears political this lends credence to the argument that president trump makes over and over that it's not just a prosecution these are persecutions and and his base is going to rally to that every time this happens we got to remember too that as you noted there and as he continues to note there weren't quote victims here there weren't people that came forward and demanded justice from the attorney general so in new york even though we're referring to this as the supreme court they have uh unusual language that they use in new york it's not their final court of appeal their court of appeals is actually above their state supreme court so the trump team feels like on so many different counts they've got a really strong measure on appeal um no doubt that they're going to take every penny of this to appeal uh so what happens in the meantime a lot of this has been put on hold taking the business licenses and those kinds of things so we'll see how they do on appeal but no doubt that's what they're going to do yeah i mean ari when you evaluate your own properties for the purpose of insurance or the purpose of getting a loan from a bank um it comes basically with language that says this is our assessment then the banks step in they do their assessment on how much the property is valued and in none of those cases involving the trump organization did did any of these parties bring any litigation against the trump organization for any fse false representation correct no that is exactly right and nobody has ever accused any of these new york bankers or insurance people of being behind the ball i mean these guys are pretty sharp at what they do and they know how to sharpen their pencils so it all of this just is why i put this in a political category not a legal category it and it's just it's one of the reasons the norms have broken down in this country because when the democrats go to these kind of resorts to get somebody they don't like we all lose faith in the system you know it's the same thing as two impeachments that violated the rules of the house it's all just to get the man they don't want and the perverse result of it is they're going to get the man they don't want as a result of all these prosecutions donald trump leapfrogged in the republican nomination if they had really wanted to get rid of trump they wouldn't have prosecuted him and then rona santis actually may have had a chance back in january of 2023 but these indictments led to the rallying of the base because made people question justice which has been a four-year pattern when donald trump was president so it's the most foolish thing that democrats could do unless they want donald trump to return to power yeah you're so right i i mean you know ignoring some of this might have produced a different outcome uh when you think about 91 indictments against this individual and shannon you know just looking at other civil cases which have a monetary um price tag on them as i said this is not a criminal case that he was in here i looked back oj simpson was found civil liable in the deaths of two people um his wife nicole brown simpson and her friend who was at the property at the time $33 million in the deaths of two human beings in one of the most high-profile cases in american history yeah what do you think about that well there were clearly victims in that case which keeps going back to this argument about nobody complained everybody got paid back in this this case so regardless of how you feel about the outcome when the president former president and his supporters have this argument that it's political it certainly looks like way especially with the clips that you played earlier now something interesting to note we had out new fox polling this week you and i on the road have talked to folks in new hampshire and iowa and everywhere in between who've said they would not move away from president trump if he was indicted or convicted now there is some softening there if he's convicted on a criminal charge but this new polling we have out of critical states new hampshire and michigan this week found that more biden supporters are worried about his mental acuity than trump supporters are worried about his legal issues so again this will rally most of the base to him it forced all of his gop rivals to run to his defense every time he was indicted and um as ari points out i mean it cleared the field in a very different way but voters say for the majority of trump's supporters it's not going to move them they're not going to waver in the face of verdicts like this no you're absolutely right shannon there's no indication in any of the polling that this has a negative impact on the trump campaign and if anything it has a positive impact because when they see him under attack in some element of their own lives uh you know many people feel like they understand what it's like to be under the thumb of of the government or of the law in one way or the other um and they rally to him and and support him um which has been just a fascinating political phenomenon to watch i'm steve duy i'm brian kilme and i'm angley aart and click here to subscribe to the fox news youtube page to catch our hottest interviews and most compelling analysis\n",
      "we actually want to get right to kara scannell. kara, do we have a ruling in the donald trump civil fraud trial case? yeah, we do. boris, we just got the ruling. it is 92 pages long, and i'm scanning through it right now. but when i'm looking at these numbers, the totals that the judge is ordering collectively in the case, so this will include all of the defendants i'm getting a total of $362 million, and i'm just scrolling through this now. i can see that there's the dollar amount specific to donald trump. i'm going to use a calculator to do some rough math. it gets us to four donald trump about $354 million. that's for him. the company, the trump organization, so very close to what the new york attorney general's office was seeking a $370 million. you know there there's a lot of a lot of zeros here and a lot of other numbers but roughly $354 million is the judgment against donald trump. the judge also found that his son eric trump, is liable in the amount of $4 million donald trump jr is liable in the amount of $4 million. and allen weisselberg, the former chief financial officer, is liable in the amount of $1 million. i haven't had a chance to read through the language of what the judge said here, but really this was about the money because the judge had already found that donald trump, his sons, and allen weisselberg had engaged in fraud by issuing fraudulent financial statements, giving them to banks and insurers in order to obtain favorable rates. he ruled that before the trial. but we did go through a three month trial. the judge was looking to determine how much in ill gotten gains is what this word of disgorgement means. the money that they benefited from. so now the judge issuing the significant ruling more than $350 million against donald trump and the trump organization and against the sun. so i'm going to have to see if i can quickly search to see what the judge said about any ban. that was the other outstanding question here. i'm not able to to find that very quickly. but that is another issue that we're looking for here of what the judge says about whether he's banning trump from doing business or his sons. but this ruling, there was a question of whether the sons would be found to be liable because the judge said at the end of the trial during closing arguments, he asked the attorney general's team if he said he wasn't sure there was sufficient evidence against the sons of this ruling here, indicating that he believes that they did at least receive improper profits and asking them to disgorge that to the as a result of this case. you know, this is a significant win for the new york attorney general, letitia james. she had been investigating this case ever since michael cohen testified before congress when he made the first allegation that trump had inflated the value properties to get better loans, rates on loans and insurance, and to pay less in taxes so she is now justified by this finding by the judge. and again, this was a judge trial. this was not a jury trial. so we've been waiting for judge arthur and gaughan to issue this ruling. and now we have it. we still have to continue to read through it. our team is doing that as i speak. but, you know, a real significant win for the new york attorney general and a loss for donald trump in this case that goes to the heart of his reputation, the reputation that he was a successful real estate businessman that he wrote to the white house and the judge finding here that, you know, there was fraud, there was liability, and saying that trump needs to pay back more than $350 million for this brianna. yeah, it goes so much to his identity. this is clearly one of the cases, one of the legal issues, issues that he's facing that bothers him the most here as the attorney general in new york, had argued that it was the marketplace that was harmed here and was seeking to recoup this disgorgement of these ill gotten gains. let's go ahead and bring in paula reed, our chief legal correspondent, to talk about what she is seeing here. with our understanding here, paula, that this is really kind of hot off the presses, this ruling. yes, the paper is still warm, but we're going through it right now. and as you and kara we're talking about, this case is so personal because it represents such a threat to trump's business, his family business and his identity remembers his identity as a businessman that brought him fame before he arrived at the white house. but in looking at the summary of this ruling, we see in addition to the monetary penalties that kara just laid out, they have found him liable for fraud. and they are going to continue to appointment of an independent monitor. so back in 20, 22, the judge installed a monitor to keep an eye on exactly what the trump organization was doing when it came to its business dealings. now, among the things this monitor uncovered were a $48 million loan, for example, to the company itself. but there was no paperwork they couldn't really find any information. that was just one thing that came up. now, trump lawyers have insisted because they loan the money to themselves, they didn't have the paperwork that they needed and that the monitor has found no fraud. now, the judge also here orders the installation of an independent director of compliance. but i also want to note that they are saying here, the judge is saying that they're going to limit the defendant's right to conduct business in new york for a few years. now, it's going to take a few minutes before we unpack exactly what that means. does that does not appear to be an indefinite ban, the so-called corporate death penalty, but it does appear that the judge is going to put some restrictions on trump and the trump organization's ability to do business in the state of new york. but let's go back to the idea of this independent director of compliance that appears to be maybe an executive level person who will ensure that they are being honest when evaluating their assets when applying for insurance or loans from banks, because, of course, that is what the judge here found trump liable for last fall before this trial started. they said you are liable for fraud. you believe that he was not honest about the value of his assets because he was trying to get more favorable terms from banks, from insurance companies. now, trump's defense here was that they were these are subjective evaluations that ultimately there was no victim. and i want to note, when it comes to barring anyone from doing business in the state of new york, the so-called corporate death penalty is something that is rarely handed down in the state of new york, especially when there is no obvious victim. so we're going to keep reading to learn more about the limits that they're going to put on his ability to conduct business in new york over the next few years. paula, we'll let you get to it. please stand by. we have a couple of important voices now on these developments. we're not a mere reality is with us, norm eisen, as well as doug heye, looking at the political angle of this. first to you, norm, just your reaction to this filing by judge anger on and the news from paula that the trump organization will not face the corporate death penalty, though there will be some limits on their ability to do business in new york. boris, it's another devastating blow to the former president and yesterday there was the criminal case in new york state on allegations of fraud at the end of the 2016 election that in the form of paying hush money. now you get this civil fraud ruling in almost the full amount requested over $360 million against donald trump his business is associated persons and entities and it does have significant sanctions on donald trump and others including his sons continuing to do business so donald trump cannot serve as an officer or director of a new york company for three years. he cannot take out loans for three years as part of the penalty. however the the one bright lining in here for donald trump is the judge rolls back his prior determination of removing that certificate gets to do business, the so-called corporate death penalty that would have shut these companies down. he had gotten appellate pushback. and of course, now all of this will be reviewed on appeal. and i want to bring in renato just sort of with a technical question. and paula, jump in two of you. if you know this as we understand now that the judge has ordered trump to pay nearly $355 million in this civil fraud trial in these illegal and gains in disgorgement, as it is called, what happens? because obviously he's appealing this is the you know, is there some kind of bond that is posted? what what is the process for securing the money even as this appeals process continues? does he have to do that so that's typically the case in most states is that you do have to post a bond pending appeal. and that, you know, often is something that you'll post a certain amount of capital. you won't post the entire amount in order to obtain that bond. you know, here i would expect, for example, there not only to be a bond that's posted, but, of course, in the meantime, he's going to have to comply with some of the conditions that the judge has already imposed. so that that's going to limit his ability to continue to make money and run his business. i mean, as a practical matter, businesses have to be nimble and having an independent compliance director and a monitor and so on is going to also, i would say, hamper his ability to be nimble and act in a way that he ordinarily might want to in his business. so i think it's a very significant impact on him in the short run, regardless of his financial situation. i don't see any way, despite trump often spinning things as a win, i just don't see how any lawyer with the straight face could tell their client that this is a great result. this is a devastating result for trump and his businesses.\n"
     ]
    }
   ],
   "source": [
    "import os\n",
    "\n",
    "data_dir = \"../data/\"\n",
    "for file in os.listdir(data_dir):\n",
    "    if file.endswith(\".json\"):\n",
    "        file_path = os.path.join(data_dir, file)\n",
    "        transcript = clean_transcript(get_transcript(file_path))\n",
    "        print(transcript)"
   ],
   "metadata": {
    "collapsed": false,
    "ExecuteTime": {
     "end_time": "2024-04-11T06:39:46.525357Z",
     "start_time": "2024-04-11T06:39:46.497245Z"
    }
   },
   "id": "e512c6c32645df6d",
   "execution_count": 3
  },
  {
   "cell_type": "code",
   "outputs": [],
   "source": [
    "from transformers import AutoTokenizer, AutoModelForSeq2SeqLM\n",
    "\n",
    "# Load model and tokenizer\n",
    "tokenizer = AutoTokenizer.from_pretrained(\"Babelscape/rebel-large\")\n",
    "model = AutoModelForSeq2SeqLM.from_pretrained(\"Babelscape/rebel-large\")"
   ],
   "metadata": {
    "collapsed": false,
    "ExecuteTime": {
     "end_time": "2024-04-11T06:39:53.235081Z",
     "start_time": "2024-04-11T06:39:46.526143Z"
    }
   },
   "id": "c45f33b8d71d9a2c",
   "execution_count": 4
  },
  {
   "cell_type": "code",
   "outputs": [],
   "source": [
    "def extract_relations_from_model_output(text):\n",
    "    relations = []\n",
    "    relation, subject, relation, object_ = '', '', '', ''\n",
    "    text = text.strip()\n",
    "    current = 'x'\n",
    "    text_replaced = text.replace(\"<s>\", \"\").replace(\"<pad>\", \"\").replace(\"</s>\", \"\")\n",
    "    for token in text_replaced.split():\n",
    "        if token == \"<triplet>\":\n",
    "            current = 't'\n",
    "            if relation != '':\n",
    "                relations.append({\n",
    "                    'head': subject.strip(),\n",
    "                    'type': relation.strip(),\n",
    "                    'tail': object_.strip()\n",
    "                })\n",
    "                relation = ''\n",
    "            subject = ''\n",
    "        elif token == \"<subj>\":\n",
    "            current = 's'\n",
    "            if relation != '':\n",
    "                relations.append({\n",
    "                    'head': subject.strip(),\n",
    "                    'type': relation.strip(),\n",
    "                    'tail': object_.strip()\n",
    "                })\n",
    "            object_ = ''\n",
    "        elif token == \"<obj>\":\n",
    "            current = 'o'\n",
    "            relation = ''\n",
    "        else:\n",
    "            if current == 't':\n",
    "                subject += ' ' + token\n",
    "            elif current == 's':\n",
    "                object_ += ' ' + token\n",
    "            elif current == 'o':\n",
    "                relation += ' ' + token\n",
    "    if subject != '' and relation != '' and object_ != '':\n",
    "        relations.append({\n",
    "            'head': subject.strip(),\n",
    "            'type': relation.strip(),\n",
    "            'tail': object_.strip()\n",
    "        })\n",
    "    return relations"
   ],
   "metadata": {
    "collapsed": false,
    "ExecuteTime": {
     "end_time": "2024-04-11T06:39:53.242028Z",
     "start_time": "2024-04-11T06:39:53.237413Z"
    }
   },
   "id": "3ae883433aec8697",
   "execution_count": 5
  },
  {
   "cell_type": "code",
   "outputs": [],
   "source": [
    "class KB():\n",
    "    def __init__(self):\n",
    "        self.relations = []\n",
    "\n",
    "    def are_relations_equal(self, r1, r2):\n",
    "        return all(r1[attr] == r2[attr] for attr in [\"head\", \"type\", \"tail\"])\n",
    "\n",
    "    def exists_relation(self, r1):\n",
    "        return any(self.are_relations_equal(r1, r2) for r2 in self.relations)\n",
    "\n",
    "    def merge_relations(self, r1):\n",
    "        r2 = [r for r in self.relations\n",
    "              if self.are_relations_equal(r1, r)][0]\n",
    "        spans_to_add = [span for span in r1[\"meta\"][\"spans\"]\n",
    "                        if span not in r2[\"meta\"][\"spans\"]]\n",
    "        r2[\"meta\"][\"spans\"] += spans_to_add\n",
    "\n",
    "    def add_relation(self, r):\n",
    "        if not self.exists_relation(r):\n",
    "            self.relations.append(r)\n",
    "        else:\n",
    "            self.merge_relations(r)\n",
    "\n",
    "    def print(self):\n",
    "        print(\"Relations:\")\n",
    "        for r in self.relations:\n",
    "            print(f\"  {r}\")"
   ],
   "metadata": {
    "collapsed": false,
    "ExecuteTime": {
     "end_time": "2024-04-11T06:39:53.247164Z",
     "start_time": "2024-04-11T06:39:53.243218Z"
    }
   },
   "id": "e7fe5c6fadd71f1a",
   "execution_count": 6
  },
  {
   "cell_type": "code",
   "outputs": [
    {
     "name": "stdout",
     "output_type": "stream",
     "text": [
      "Relations:\n",
      "  {'head': 'cat', 'type': 'opposite of', 'tail': 'dog', 'meta': {'spans': [[0, 128]]}}\n",
      "  {'head': 'dog', 'type': 'opposite of', 'tail': 'cat', 'meta': {'spans': [[0, 128]]}}\n"
     ]
    }
   ],
   "source": [
    "import math\n",
    "import torch\n",
    "\n",
    "\n",
    "def from_text_to_kb(text, span_length=128, verbose=False):\n",
    "    # tokenize whole text\n",
    "    inputs = tokenizer([text], return_tensors=\"pt\")\n",
    "\n",
    "    # compute span boundaries\n",
    "    num_tokens = len(inputs[\"input_ids\"][0])\n",
    "    if verbose:\n",
    "        print(f\"Input has {num_tokens} tokens\")\n",
    "    num_spans = math.ceil(num_tokens / span_length)\n",
    "    if verbose:\n",
    "        print(f\"Input has {num_spans} spans\")\n",
    "    overlap = math.ceil((num_spans * span_length - num_tokens) / \n",
    "                        max(num_spans - 1, 1))\n",
    "    spans_boundaries = []\n",
    "    start = 0\n",
    "    for i in range(num_spans):\n",
    "        spans_boundaries.append([start + span_length * i,\n",
    "                                 start + span_length * (i + 1)])\n",
    "        start -= overlap\n",
    "    if verbose:\n",
    "        print(f\"Span boundaries are {spans_boundaries}\")\n",
    "\n",
    "    # transform input with spans\n",
    "    tensor_ids = [inputs[\"input_ids\"][0][boundary[0]:boundary[1]]\n",
    "                  for boundary in spans_boundaries]\n",
    "    tensor_masks = [inputs[\"attention_mask\"][0][boundary[0]:boundary[1]]\n",
    "                    for boundary in spans_boundaries]\n",
    "    inputs = {\n",
    "        \"input_ids\": torch.stack(tensor_ids),\n",
    "        \"attention_mask\": torch.stack(tensor_masks)\n",
    "    }\n",
    "\n",
    "    # generate relations\n",
    "    num_return_sequences = 3\n",
    "    gen_kwargs = {\n",
    "        \"max_length\": 256,\n",
    "        \"length_penalty\": 0,\n",
    "        \"num_beams\": 3,\n",
    "        \"num_return_sequences\": num_return_sequences\n",
    "    }\n",
    "    generated_tokens = model.generate(\n",
    "        **inputs,\n",
    "        **gen_kwargs,\n",
    "    )\n",
    "\n",
    "    # decode relations\n",
    "    decoded_preds = tokenizer.batch_decode(generated_tokens,\n",
    "                                           skip_special_tokens=False)\n",
    "\n",
    "    # create kb\n",
    "    kb = KB()\n",
    "    i = 0\n",
    "    for sentence_pred in decoded_preds:\n",
    "        current_span_index = i // num_return_sequences\n",
    "        relations = extract_relations_from_model_output(sentence_pred)\n",
    "        for relation in relations:\n",
    "            relation[\"meta\"] = {\n",
    "                \"spans\": [spans_boundaries[current_span_index]]\n",
    "            }\n",
    "            kb.add_relation(relation)\n",
    "        i += 1\n",
    "\n",
    "    return kb\n",
    "kb = from_text_to_kb(\"The cat is on the mat. The dog is on the mat.\")\n",
    "kb.print()"
   ],
   "metadata": {
    "collapsed": false,
    "ExecuteTime": {
     "end_time": "2024-04-11T06:39:56.119316Z",
     "start_time": "2024-04-11T06:39:53.248038Z"
    }
   },
   "id": "35152cec3d802032",
   "execution_count": 7
  },
  {
   "cell_type": "code",
   "outputs": [],
   "source": [
    "def kb_to_json(kb):\n",
    "    kb_json = {\n",
    "        \"relations\": kb.relations\n",
    "    }\n",
    "    return kb_json"
   ],
   "metadata": {
    "collapsed": false,
    "ExecuteTime": {
     "end_time": "2024-04-11T06:39:56.122953Z",
     "start_time": "2024-04-11T06:39:56.120692Z"
    }
   },
   "id": "763afd2b7ae6ac5b",
   "execution_count": 8
  },
  {
   "cell_type": "code",
   "outputs": [
    {
     "name": "stdout",
     "output_type": "stream",
     "text": [
      "judge orders trump to pay $355 million in civil fraud trial\n",
      "Input has 15 tokens\n",
      "Input has 1 spans\n",
      "Span boundaries are [[0, 128]]\n",
      "Saved knowledge base to ../knowledge_bases/CNN-Judge orders Trump to pay $355 million in civil fraud trial.json\n"
     ]
    }
   ],
   "source": [
    "import json\n",
    "\n",
    "data_dir = \"../data/\"\n",
    "# data_dir = \"../test_data/\"\n",
    "output_dir = \"../knowledge_bases/\"\n",
    "if not os.path.exists(output_dir):\n",
    "    os.makedirs(output_dir)\n",
    "\n",
    "for file in os.listdir(data_dir):\n",
    "    if file.endswith(\".json\"):\n",
    "        file_path = os.path.join(data_dir, file)\n",
    "        transcript = clean_transcript(get_transcript(file_path))\n",
    "        print(transcript)\n",
    "        kb = from_text_to_kb(transcript, verbose=True)\n",
    "        # convert kb to json\n",
    "        kb_json = kb_to_json(kb)\n",
    "        # save kb to json\n",
    "        output_file_path = os.path.join(output_dir, file)\n",
    "        with open(output_file_path, 'w') as file:\n",
    "            json.dump(kb_json, file)\n",
    "        print(f\"Saved knowledge base to {output_file_path}\")"
   ],
   "metadata": {
    "collapsed": false,
    "ExecuteTime": {
     "end_time": "2024-04-11T06:40:35.921328Z",
     "start_time": "2024-04-11T06:40:34.146124Z"
    }
   },
   "id": "ec8197b25342a5f2",
   "execution_count": 10
  },
  {
   "cell_type": "code",
   "outputs": [],
   "source": [],
   "metadata": {
    "collapsed": false
   },
   "id": "b56f0edaa1ff5f55"
  }
 ],
 "metadata": {
  "kernelspec": {
   "display_name": "Python 3",
   "language": "python",
   "name": "python3"
  },
  "language_info": {
   "codemirror_mode": {
    "name": "ipython",
    "version": 2
   },
   "file_extension": ".py",
   "mimetype": "text/x-python",
   "name": "python",
   "nbconvert_exporter": "python",
   "pygments_lexer": "ipython2",
   "version": "2.7.6"
  }
 },
 "nbformat": 4,
 "nbformat_minor": 5
}
