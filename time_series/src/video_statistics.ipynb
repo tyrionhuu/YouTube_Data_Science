{
 "cells": [
  {
   "cell_type": "code",
   "execution_count": 2,
   "id": "initial_id",
   "metadata": {
    "collapsed": true,
    "ExecuteTime": {
     "end_time": "2024-05-09T06:03:53.943517Z",
     "start_time": "2024-05-09T06:03:53.917763Z"
    }
   },
   "outputs": [
    {
     "data": {
      "text/plain": "['2024-04-23.csv',\n '2024-04-22.csv',\n '2024-04-20.csv',\n '2024-04-21.csv',\n '2024-04-19.csv',\n '2024-04-25.csv',\n '2024-04-24.csv',\n '2024-04-18.csv',\n '2024-04-16.csv',\n '2024-04-17.csv',\n '2024-04-15.csv']"
     },
     "execution_count": 2,
     "metadata": {},
     "output_type": "execute_result"
    }
   ],
   "source": [
    "import os\n",
    "\n",
    "\n",
    "files = os.listdir('../videos')\n",
    "files = [f for f in files if f.endswith('.csv')]\n",
    "files"
   ]
  },
  {
   "cell_type": "code",
   "outputs": [],
   "source": [
    "import pandas as pd\n",
    "import matplotlib.pyplot as plt"
   ],
   "metadata": {
    "collapsed": false
   },
   "id": "4dadee3639fbaca7"
  }
 ],
 "metadata": {
  "kernelspec": {
   "display_name": "Python 3",
   "language": "python",
   "name": "python3"
  },
  "language_info": {
   "codemirror_mode": {
    "name": "ipython",
    "version": 2
   },
   "file_extension": ".py",
   "mimetype": "text/x-python",
   "name": "python",
   "nbconvert_exporter": "python",
   "pygments_lexer": "ipython2",
   "version": "2.7.6"
  }
 },
 "nbformat": 4,
 "nbformat_minor": 5
}
